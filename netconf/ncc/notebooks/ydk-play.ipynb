{
 "cells": [
  {
   "cell_type": "code",
   "execution_count": null,
   "metadata": {
    "collapsed": true
   },
   "outputs": [],
   "source": [
    "HOST = '172.27.255.29'\n",
    "PORT = 830\n",
    "USER = 'admin'\n",
    "PASS = 'admin'"
   ]
  },
  {
   "cell_type": "code",
   "execution_count": null,
   "metadata": {
    "collapsed": true
   },
   "outputs": [],
   "source": [
    "HOST = '127.0.0.1'\n",
    "PORT = 8304\n",
    "USER = 'cisco'\n",
    "PASS = 'cisco'"
   ]
  },
  {
   "cell_type": "code",
   "execution_count": null,
   "metadata": {
    "collapsed": false
   },
   "outputs": [],
   "source": [
    "import json\n",
    "import logging\n",
    "from argparse import ArgumentParser\n",
    "\n",
    "from ydk.types import Empty\n",
    "from ydk.errors import YPYError\n",
    "from ydk.services import CRUDService\n",
    "from ydk.providers import NetconfServiceProvider\n",
    "\n",
    "session = NetconfServiceProvider(\n",
    "    address=HOST,\n",
    "    port=PORT,\n",
    "    username=USER,\n",
    "    password=PASS,\n",
    "    protocol='ssh')\n",
    "\n",
    "# Initialize a CRUD service\n",
    "c = CRUDService()\n"
   ]
  },
  {
   "cell_type": "code",
   "execution_count": null,
   "metadata": {
    "collapsed": false
   },
   "outputs": [],
   "source": [
    "from ydk.models.ifmgr import Cisco_IOS_XR_ifmgr_oper as xr_ifmgr_oper\n",
    "\n",
    "q_intf_props = xr_ifmgr_oper.InterfaceProperties()\n",
    "intf_props = c.read(session, q_intf_props)\n",
    "\n",
    "for dn in intf_props.data_nodes.data_node:\n",
    "    print(dn.data_node_name)"
   ]
  },
  {
   "cell_type": "code",
   "execution_count": null,
   "metadata": {
    "collapsed": false
   },
   "outputs": [],
   "source": [
    "from ydk.models.pfi import Cisco_IOS_XR_pfi_im_cmd_oper as pfi_oper\n",
    "\n",
    "q_pfi = pfi_oper.Interfaces()\n",
    "pfi = c.read(session, q_pfi)\n",
    "\n",
    "for intf in pfi.interface_briefs.interface_brief:\n",
    "    print(intf.interface_name)"
   ]
  },
  {
   "cell_type": "code",
   "execution_count": null,
   "metadata": {
    "collapsed": true
   },
   "outputs": [],
   "source": []
  }
 ],
 "metadata": {
  "kernelspec": {
   "display_name": "Python 2",
   "language": "python",
   "name": "python2"
  },
  "language_info": {
   "codemirror_mode": {
    "name": "ipython",
    "version": 2
   },
   "file_extension": ".py",
   "mimetype": "text/x-python",
   "name": "python",
   "nbconvert_exporter": "python",
   "pygments_lexer": "ipython2",
   "version": "2.7.11"
  }
 },
 "nbformat": 4,
 "nbformat_minor": 0
}
