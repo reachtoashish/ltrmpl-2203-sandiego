{
 "cells": [
  {
   "cell_type": "code",
   "execution_count": 1,
   "metadata": {},
   "outputs": [],
   "source": [
    "# Local CSR 1000v (running under vagrant)\n",
    "HOST = '127.0.0.1'\n",
    "PORT_NC = 2223\n",
    "PORT_SSH = 2222\n",
    "USER = 'vagrant'\n",
    "PASS = 'vagrant'"
   ]
  },
  {
   "cell_type": "code",
   "execution_count": 3,
   "metadata": {
    "scrolled": false
   },
   "outputs": [
    {
     "name": "stdout",
     "output_type": "stream",
     "text": [
      "\r\n",
      "\r\n",
      "\r\n",
      "csr#\n",
      "show ip int brief\r\n",
      "Interface              IP-Address      OK? Method Status                Protocol\r\n",
      "GigabitEthernet1       10.0.2.15       YES DHCP   up                    up      \r\n",
      "GigabitEthernet2       unassigned      YES NVRAM  administratively down down    \r\n",
      "GigabitEthernet3       unassigned      YES NVRAM  administratively down down    \r\n",
      "GigabitEthernet4       unassigned      YES NVRAM  administratively down down    \r\n",
      "Loopback101            172.16.0.1      YES manual up                    up      \r\n",
      "csr#\n",
      "conf t\r\n",
      "Enter configuration commands, one per line.  End with CNTL/Z.\r\n",
      "csr(config)#\n",
      "interface lo101\r\n",
      "csr(config-if)#\n",
      "ip address 172.16.0.1 255.255.255.255\r\n",
      "csr(config-if)#\n",
      "end\r\n",
      "csr#\n"
     ]
    }
   ],
   "source": [
    "import paramiko\n",
    "\n",
    "#\n",
    "# prompts are hostname-dependent\n",
    "#\n",
    "PROMPT1 = \"csr#\"\n",
    "PROMPT2 = \"csr(config)#\"\n",
    "PROMPT3 = \"csr(config-if)#\"\n",
    "\n",
    "def get_reply(chan, eom):\n",
    "    bytes = u''\n",
    "    while bytes.find(eom)==-1:\n",
    "        bytes += chan.recv(65535).decode('utf-8')\n",
    "    return bytes\n",
    "\n",
    "try:\n",
    "    client = paramiko.SSHClient()\n",
    "    client.set_missing_host_key_policy(paramiko.AutoAddPolicy)\n",
    "    \n",
    "    client.connect(HOST,\n",
    "                   port=PORT_SSH,\n",
    "                   username=USER,\n",
    "                   password=PASS,\n",
    "                   look_for_keys=False, allow_agent=False)\n",
    "\n",
    "    conn = client.invoke_shell()\n",
    "    print(get_reply(conn, PROMPT1))\n",
    "    conn.send(\"show ip int brief\\n\")\n",
    "    print(get_reply(conn, PROMPT1))\n",
    "    conn.send(\"conf t\\n\")\n",
    "    print(get_reply(conn, PROMPT2))\n",
    "    conn.send(\"interface lo101\\n\")\n",
    "    print(get_reply(conn, PROMPT3))\n",
    "    conn.send(\"ip address 172.16.0.1 255.255.255.255\\n\")\n",
    "    print(get_reply(conn, PROMPT3))\n",
    "    conn.send(\"end\\n\")\n",
    "    print(get_reply(conn, PROMPT1))\n",
    "\n",
    "finally:\n",
    "    client.close()"
   ]
  },
  {
   "cell_type": "code",
   "execution_count": null,
   "metadata": {},
   "outputs": [],
   "source": []
  }
 ],
 "metadata": {
  "kernelspec": {
   "display_name": "Python 3",
   "language": "python",
   "name": "python3"
  },
  "language_info": {
   "codemirror_mode": {
    "name": "ipython",
    "version": 3
   },
   "file_extension": ".py",
   "mimetype": "text/x-python",
   "name": "python",
   "nbconvert_exporter": "python",
   "pygments_lexer": "ipython3",
   "version": "3.6.4"
  }
 },
 "nbformat": 4,
 "nbformat_minor": 2
}
