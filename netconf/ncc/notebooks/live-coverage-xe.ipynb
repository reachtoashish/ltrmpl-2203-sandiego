{
 "cells": [
  {
   "cell_type": "markdown",
   "metadata": {},
   "source": [
    "# Netmiko & Diffing"
   ]
  },
  {
   "cell_type": "markdown",
   "metadata": {},
   "source": [
    "## Prepare Your Environment\n",
    "\n",
    "Spin up a new virtual environment using your tool of choice (`virtualenv`, `virtualenvwrapper`, etc.) and install a number of libraries:\n",
    "\n",
    "```\n",
    "pip install netmiko ncclient jupyter\n",
    "```\n",
    "\n",
    "Then run up `jupyter-notebook` and open this file."
   ]
  },
  {
   "cell_type": "markdown",
   "metadata": {},
   "source": [
    "## Connection Variables"
   ]
  },
  {
   "cell_type": "code",
   "execution_count": 2,
   "metadata": {},
   "outputs": [],
   "source": [
    "# Local CSR 1000v (running under vagrant)\n",
    "HOST = '127.0.0.1'\n",
    "PORT_NC = 2223\n",
    "PORT_SSH = 2222\n",
    "USER = 'vagrant'\n",
    "PASS = 'vagrant'\n",
    "\n",
    "# used for netmiko device connection\n",
    "PLATFORM = 'cisco_ios'"
   ]
  },
  {
   "cell_type": "markdown",
   "metadata": {},
   "source": [
    "## Connect both netmiko and ncclient"
   ]
  },
  {
   "cell_type": "code",
   "execution_count": 3,
   "metadata": {},
   "outputs": [],
   "source": [
    "from netmiko import ConnectHandler\n",
    "from ncclient import manager\n",
    "from lxml import etree\n",
    "\n",
    "\n",
    "def pretty_print(retval):\n",
    "    print(etree.tostring(retval.data, pretty_print=True))\n",
    "\n",
    "def my_unknown_host_cb(host, fingerprint):\n",
    "    return True\n",
    "\n",
    "def get_reply(chan, eom):\n",
    "    bytes = u''\n",
    "    while bytes.find(eom)==-1:\n",
    "        bytes += chan.recv(65535).decode('utf-8')\n",
    "    return bytes\n",
    "\n",
    "m = manager.connect(host=HOST, port=PORT_NC, username=USER, password=PASS,\n",
    "                    allow_agent=False,\n",
    "                    look_for_keys=False,\n",
    "                    hostkey_verify=False,\n",
    "                    unknown_host_cb=my_unknown_host_cb)\n",
    "d = ConnectHandler(device_type=PLATFORM, ip=HOST, port=PORT_SSH, username=USER, password=PASS)\n",
    "\n",
    "prompt = d.find_prompt()"
   ]
  },
  {
   "cell_type": "markdown",
   "metadata": {},
   "source": [
    "## Capture **Initial** Netconf Config"
   ]
  },
  {
   "cell_type": "code",
   "execution_count": 5,
   "metadata": {},
   "outputs": [],
   "source": [
    "retval = m.get_config(source='running', filter=('xpath', '/native'))\n",
    "initial_netconf = retval.data_ele[0]"
   ]
  },
  {
   "cell_type": "markdown",
   "metadata": {
    "collapsed": true
   },
   "source": [
    "## Sample Config To Apply"
   ]
  },
  {
   "cell_type": "code",
   "execution_count": 10,
   "metadata": {},
   "outputs": [],
   "source": [
    "config = '''ip access-list standard FOO\n",
    " permit 10.128.0.0 0.127.255.255\n",
    " permit 10.119.120.0 0.0.7.255\n",
    " permit 10.87.79.0 0.0.0.255\n",
    " permit 10.87.96.0 0.0.0.255\n",
    " deny   any\n",
    "'''\n",
    "\n",
    "# config = '''no ip access-list standard FOO'''"
   ]
  },
  {
   "cell_type": "markdown",
   "metadata": {},
   "source": [
    "## Copy Config To Flash (IOS-XE Only)"
   ]
  },
  {
   "cell_type": "code",
   "execution_count": 5,
   "metadata": {},
   "outputs": [],
   "source": [
    "d.remote_conn.sendall('copy running-config flash:backup123.cfg\\n')\n",
    "get_reply(d.remote_conn, ']? ')\n",
    "d.remote_conn.sendall('\\n')\n",
    "output = get_reply(d.remote_conn, prompt)"
   ]
  },
  {
   "cell_type": "markdown",
   "metadata": {},
   "source": [
    "## Apply Config"
   ]
  },
  {
   "cell_type": "code",
   "execution_count": 11,
   "metadata": {},
   "outputs": [],
   "source": [
    "output = d.send_config_set(config.splitlines())"
   ]
  },
  {
   "cell_type": "markdown",
   "metadata": {},
   "source": [
    "## Capture Running Config"
   ]
  },
  {
   "cell_type": "code",
   "execution_count": 7,
   "metadata": {},
   "outputs": [],
   "source": [
    "running_config_before = d.send_command('show running-config')"
   ]
  },
  {
   "cell_type": "markdown",
   "metadata": {},
   "source": [
    "## Capture Netconf Config"
   ]
  },
  {
   "cell_type": "code",
   "execution_count": 8,
   "metadata": {},
   "outputs": [],
   "source": [
    "retval = m.get_config(source='running', filter=('xpath', '/native'))\n",
    "native = retval.data_ele[0]\n",
    "reapply = '<config>' + etree.tostring(native).decode() + '</config>'"
   ]
  },
  {
   "cell_type": "markdown",
   "metadata": {},
   "source": [
    "## Diff Netconf Config Now With Initial Netconf Config"
   ]
  },
  {
   "cell_type": "code",
   "execution_count": 9,
   "metadata": {},
   "outputs": [],
   "source": [
    "initial_xml_str = etree.tostring(initial_netconf, pretty_print=True)\n",
    "after_xml_str = etree.tostring(native, pretty_print=True)"
   ]
  },
  {
   "cell_type": "code",
   "execution_count": 10,
   "metadata": {},
   "outputs": [
    {
     "name": "stdout",
     "output_type": "stream",
     "text": [
      "*** \n",
      "\n",
      "--- \n",
      "\n",
      "***************\n",
      "\n",
      "*** 62,67 ****\n",
      "\n",
      "--- 62,116 ----\n",
      "\n",
      "          <GigabitEthernet>1</GigabitEthernet>\n",
      "        </source-interface>\n",
      "      </tftp>\n",
      "+     <access-list>\n",
      "+       <standard xmlns=\"http://cisco.com/ns/yang/Cisco-IOS-XE-acl\">\n",
      "+         <name>FOO</name>\n",
      "+         <access-list-seq-rule>\n",
      "+           <sequence>10</sequence>\n",
      "+           <permit>\n",
      "+             <std-ace>\n",
      "+               <ipv4-prefix>10.128.0.0</ipv4-prefix>\n",
      "+               <mask>0.127.255.255</mask>\n",
      "+             </std-ace>\n",
      "+           </permit>\n",
      "+         </access-list-seq-rule>\n",
      "+         <access-list-seq-rule>\n",
      "+           <sequence>20</sequence>\n",
      "+           <permit>\n",
      "+             <std-ace>\n",
      "+               <ipv4-prefix>10.119.120.0</ipv4-prefix>\n",
      "+               <mask>0.0.7.255</mask>\n",
      "+             </std-ace>\n",
      "+           </permit>\n",
      "+         </access-list-seq-rule>\n",
      "+         <access-list-seq-rule>\n",
      "+           <sequence>30</sequence>\n",
      "+           <permit>\n",
      "+             <std-ace>\n",
      "+               <ipv4-prefix>10.87.79.0</ipv4-prefix>\n",
      "+               <mask>0.0.0.255</mask>\n",
      "+             </std-ace>\n",
      "+           </permit>\n",
      "+         </access-list-seq-rule>\n",
      "+         <access-list-seq-rule>\n",
      "+           <sequence>40</sequence>\n",
      "+           <permit>\n",
      "+             <std-ace>\n",
      "+               <ipv4-prefix>10.87.96.0</ipv4-prefix>\n",
      "+               <mask>0.0.0.255</mask>\n",
      "+             </std-ace>\n",
      "+           </permit>\n",
      "+         </access-list-seq-rule>\n",
      "+         <access-list-seq-rule>\n",
      "+           <sequence>50</sequence>\n",
      "+           <deny>\n",
      "+             <std-ace>\n",
      "+               <any/>\n",
      "+             </std-ace>\n",
      "+           </deny>\n",
      "+         </access-list-seq-rule>\n",
      "+       </standard>\n",
      "+     </access-list>\n",
      "      <http xmlns=\"http://cisco.com/ns/yang/Cisco-IOS-XE-http\">\n",
      "        <server>true</server>\n",
      "        <secure-server>true</secure-server>\n"
     ]
    }
   ],
   "source": [
    "from difflib import context_diff\n",
    "\n",
    "print('\\n'.join(context_diff(\n",
    "    initial_xml_str.decode().splitlines(),\n",
    "    after_xml_str.decode().splitlines())))"
   ]
  },
  {
   "cell_type": "markdown",
   "metadata": {},
   "source": [
    "## Restore Config From Flash"
   ]
  },
  {
   "cell_type": "code",
   "execution_count": 11,
   "metadata": {
    "scrolled": true
   },
   "outputs": [
    {
     "name": "stdout",
     "output_type": "stream",
     "text": [
      "configure replace flash:backup123.cfg\n",
      "This will apply all necessary additions and deletions\n",
      "to replace the current running configuration with the\n",
      "contents of the specified configuration file, which is\n",
      "assumed to be a complete configuration, not a partial\n",
      "configuration. Enter Y if you are sure you want to proceed. ? [no]: \n",
      "y\n",
      "Total number of passes: 1\n",
      "Rollback Done\n",
      "\n",
      "csr1kv#\n"
     ]
    }
   ],
   "source": [
    "d.remote_conn.sendall('configure replace flash:backup123.cfg\\n')\n",
    "output = get_reply(d.remote_conn, '[no]: ')\n",
    "print(output)\n",
    "d.remote_conn.sendall('y\\n')\n",
    "output = get_reply(d.remote_conn, prompt)\n",
    "print(output)"
   ]
  },
  {
   "cell_type": "markdown",
   "metadata": {},
   "source": [
    "## Reapply Netconf Config"
   ]
  },
  {
   "cell_type": "code",
   "execution_count": 12,
   "metadata": {},
   "outputs": [
    {
     "data": {
      "text/plain": [
       "<?xml version=\"1.0\" encoding=\"UTF-8\"?>\n",
       "<rpc-reply xmlns=\"urn:ietf:params:xml:ns:netconf:base:1.0\" message-id=\"urn:uuid:e5087d46-bfd7-44a8-ab0f-45b0cb73ca07\" xmlns:nc=\"urn:ietf:params:xml:ns:netconf:base:1.0\"><ok/></rpc-reply>"
      ]
     },
     "execution_count": 12,
     "metadata": {},
     "output_type": "execute_result"
    }
   ],
   "source": [
    "m.edit_config(reapply, format='xml', target='running', default_operation='merge')"
   ]
  },
  {
   "cell_type": "markdown",
   "metadata": {},
   "source": [
    "## Get Running Config Again"
   ]
  },
  {
   "cell_type": "code",
   "execution_count": 13,
   "metadata": {},
   "outputs": [],
   "source": [
    "running_config_after = d.send_command('show running-config')"
   ]
  },
  {
   "cell_type": "markdown",
   "metadata": {},
   "source": [
    "## Diff Before & After\n",
    "\n",
    "Any difference here implies a lack of coverage."
   ]
  },
  {
   "cell_type": "code",
   "execution_count": 14,
   "metadata": {},
   "outputs": [
    {
     "name": "stdout",
     "output_type": "stream",
     "text": [
      "\n"
     ]
    }
   ],
   "source": [
    "from difflib import context_diff\n",
    "\n",
    "#\n",
    "# remember to skip the first few lines that have timestamps & stuff that may differ\n",
    "#\n",
    "print(''.join(context_diff(running_config_before.splitlines()[5:], running_config_after.splitlines()[5:])))"
   ]
  },
  {
   "cell_type": "markdown",
   "metadata": {},
   "source": [
    "## Delete Backup From Flash"
   ]
  },
  {
   "cell_type": "code",
   "execution_count": 15,
   "metadata": {},
   "outputs": [],
   "source": [
    "d.remote_conn.sendall('delete flash:backup123.cfg\\n')\n",
    "output = get_reply(d.remote_conn, ']? ')\n",
    "d.remote_conn.sendall('\\n')\n",
    "output = get_reply(d.remote_conn, '[confirm]')\n",
    "d.remote_conn.sendall('\\n')\n",
    "output = get_reply(d.remote_conn, prompt)"
   ]
  },
  {
   "cell_type": "markdown",
   "metadata": {},
   "source": [
    "## Tidyup Sessions"
   ]
  },
  {
   "cell_type": "code",
   "execution_count": 16,
   "metadata": {},
   "outputs": [
    {
     "data": {
      "text/plain": [
       "<?xml version=\"1.0\" encoding=\"UTF-8\"?>\n",
       "<rpc-reply xmlns=\"urn:ietf:params:xml:ns:netconf:base:1.0\" message-id=\"urn:uuid:b15a00d4-a68f-4f74-a3d1-4d02401370b2\" xmlns:nc=\"urn:ietf:params:xml:ns:netconf:base:1.0\"><ok/></rpc-reply>"
      ]
     },
     "execution_count": 16,
     "metadata": {},
     "output_type": "execute_result"
    }
   ],
   "source": [
    "d.disconnect()\n",
    "m.close_session()"
   ]
  },
  {
   "cell_type": "code",
   "execution_count": null,
   "metadata": {},
   "outputs": [],
   "source": []
  }
 ],
 "metadata": {
  "kernelspec": {
   "display_name": "Python 3",
   "language": "python",
   "name": "python3"
  },
  "language_info": {
   "codemirror_mode": {
    "name": "ipython",
    "version": 3
   },
   "file_extension": ".py",
   "mimetype": "text/x-python",
   "name": "python",
   "nbconvert_exporter": "python",
   "pygments_lexer": "ipython3",
   "version": "3.6.4"
  }
 },
 "nbformat": 4,
 "nbformat_minor": 2
}
