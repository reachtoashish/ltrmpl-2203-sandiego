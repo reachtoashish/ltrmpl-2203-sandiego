{
 "cells": [
  {
   "cell_type": "markdown",
   "metadata": {},
   "source": [
    "Revisions:\n",
    "\n",
    "* 07/16/2016 -- Updated for ncclient 0.5.2\n",
    "* 08/20/2016 -- Forked from SEVT demo notebook to do some QoS play"
   ]
  },
  {
   "cell_type": "code",
   "execution_count": null,
   "metadata": {
    "collapsed": false
   },
   "outputs": [],
   "source": [
    "import logging\n",
    "\n",
    "handler = logging.StreamHandler()\n",
    "for l in ['ncclient.transport.ssh', 'ncclient.transport.session', 'ncclient.operations.rpc']:\n",
    "    logger = logging.getLogger(l)\n",
    "    logger.addHandler(handler)\n",
    "    logger.setLevel(logging.DEBUG)"
   ]
  },
  {
   "cell_type": "markdown",
   "metadata": {},
   "source": [
    "## Connecting to a Device\n",
    "\n",
    "First, we need to make sure the device itself has NETCONF/YANG enabled. It's pretty simple:\n",
    "\n",
    "```\n",
    "ssh server v2\n",
    "ssh server netconf\n",
    "netconf-yang agent ssh\n",
    "```\n",
    "\n",
    "You also need to generate a host key from the exec prompt:\n",
    "\n",
    "```\n",
    "crypto key generate rsa\n",
    "```\n",
    "\n",
    "Next, let's define some variables that let us attach to the device. I'm connecting through an SSH tunnel to my device running on a UCS server in the lab. You should replace the variables below with the device of your choice:"
   ]
  },
  {
   "cell_type": "code",
   "execution_count": null,
   "metadata": {
    "collapsed": true
   },
   "outputs": [],
   "source": [
    "# Running over an SSH tunnel!\n",
    "HOST = '127.0.0.1'\n",
    "PORT = 8305\n",
    "USER = 'cisco'\n",
    "PASS = 'cisco'"
   ]
  },
  {
   "cell_type": "code",
   "execution_count": null,
   "metadata": {
    "collapsed": true
   },
   "outputs": [],
   "source": [
    "# XR box on fe-ucs34\n",
    "HOST = '192.248.175.222'\n",
    "PORT = 830\n",
    "USER = 'cisco'\n",
    "PASS = 'cisco'"
   ]
  },
  {
   "cell_type": "markdown",
   "metadata": {},
   "source": [
    "Now let's establish a NETCONF session to that box using ncclient. Set the timeout to 600 seconds to allow for long-running operations."
   ]
  },
  {
   "cell_type": "code",
   "execution_count": null,
   "metadata": {
    "collapsed": false
   },
   "outputs": [],
   "source": [
    "from ncclient import manager\n",
    "from lxml import etree\n",
    "\n",
    "def pretty_print(nc_retval):\n",
    "    '''The ncclient library works with XML. It takes XML in and gives XML back.\n",
    "    Yeah, I know it's not JSON, so we need to make it a little easier to read,\n",
    "    so let's define a pretty printer we can use with ncclient responses\n",
    "    '''\n",
    "    print(etree.tostring(etree.fromstring(nc_retval.data_xml), pretty_print=True))\n",
    "\n",
    "def my_unknown_host_cb(host, fingerprint):\n",
    "    return True\n",
    "\n",
    "m = manager.connect(host=HOST, port=PORT, username=USER, password=PASS,\n",
    "                    timeout=600,\n",
    "                    allow_agent=False,\n",
    "                    look_for_keys=False,\n",
    "                    hostkey_verify=False,\n",
    "                    unknown_host_cb=my_unknown_host_cb)"
   ]
  },
  {
   "cell_type": "markdown",
   "metadata": {},
   "source": [
    "## Schema Discovery\n",
    "\n",
    "Building on the parsing of the capabilities we saw above, NETCONF/YANG can also let a client discover more details on the schemas supported by a box.\n",
    "\n",
    "But why do we care? Let's think back to what we talked about earlier. About the need for boxes to describe themselves to their clients. To expose their \"model\".\n",
    "\n",
    "Let's pick a base model that looks like it may do something interesting, for example ```Cisco-IOS-XR-ifmgr-cfg```, and let's download the schema. The ncclient library provides a nice, simple function for that."
   ]
  },
  {
   "cell_type": "code",
   "execution_count": null,
   "metadata": {
    "collapsed": false
   },
   "outputs": [],
   "source": [
    "from subprocess import Popen, PIPE, STDOUT\n",
    "\n",
    "SCHEMA_TO_GET = 'Cisco-IOS-XR-qos-ma-oper'\n",
    "c = m.get_schema(SCHEMA_TO_GET)\n",
    "p = Popen(['pyang', '-f', 'tree', \"--tree-path=qos/interface-table/interface/input\", \"--tree-depth=7\"], stdout=PIPE, stdin=PIPE, stderr=PIPE)\n",
    "stdout_data = p.communicate(input=c.data)[0]\n",
    "\n",
    "print stdout_data"
   ]
  },
  {
   "cell_type": "markdown",
   "metadata": {},
   "source": [
    "## Config Data"
   ]
  },
  {
   "cell_type": "code",
   "execution_count": null,
   "metadata": {
    "collapsed": false
   },
   "outputs": [],
   "source": [
    "try:\n",
    "    c = m.get_config(source='running')\n",
    "    pretty_print(c)\n",
    "except TimeoutExpiredError as e:\n",
    "    print(\"Operation timeout!\")\n",
    "except Exception as e:\n",
    "    print(\"severity={}, tag={}\".format(e.severity, e.tag))\n",
    "    print(e)"
   ]
  },
  {
   "cell_type": "markdown",
   "metadata": {},
   "source": [
    "## Oper Data?\n",
    "\n",
    "As we touched on before, NETCONF also has the ```get``` operation. This can get both configuration state **and** operational state.\n",
    "\n",
    "### Verbose Interface Stats"
   ]
  },
  {
   "cell_type": "code",
   "execution_count": null,
   "metadata": {
    "collapsed": false
   },
   "outputs": [],
   "source": [
    "from ncclient.operations import TimeoutExpiredError\n",
    "\n",
    "filter = '''\n",
    "<interfaces xmlns=\"http://cisco.com/ns/yang/Cisco-IOS-XR-pfi-im-cmd-oper\"/>\n",
    "'''\n",
    "\n",
    "try:\n",
    "    c = m.get(filter=('subtree', filter))\n",
    "    pretty_print(c)\n",
    "except TimeoutExpiredError as e:\n",
    "    print(\"Operation timeout!\")\n",
    "except Exception as e:\n",
    "    print(\"severity={}, tag={}\".format(e.severity, e.tag))\n",
    "    print(e)"
   ]
  },
  {
   "cell_type": "markdown",
   "metadata": {},
   "source": [
    "### Slightly Less Verbose Interface Stats"
   ]
  },
  {
   "cell_type": "code",
   "execution_count": null,
   "metadata": {
    "collapsed": false
   },
   "outputs": [],
   "source": [
    "from ncclient.operations import TimeoutExpiredError\n",
    "\n",
    "filter = '''\n",
    "<interfaces xmlns=\"http://cisco.com/ns/yang/Cisco-IOS-XR-pfi-im-cmd-oper\">\n",
    "  <interface-briefs/>\n",
    "</interfaces>\n",
    "'''\n",
    "\n",
    "try:\n",
    "    c = m.get(filter=('subtree', filter))\n",
    "    pretty_print(c)\n",
    "except TimeoutExpiredError as e:\n",
    "    print(\"Operation timeout!\")\n",
    "except Exception as e:\n",
    "    print(\"severity={}, tag={}\".format(e.severity, e.tag))\n",
    "    print(e)"
   ]
  },
  {
   "cell_type": "markdown",
   "metadata": {},
   "source": [
    "### Zeroing In On A Specific Interface"
   ]
  },
  {
   "cell_type": "code",
   "execution_count": null,
   "metadata": {
    "collapsed": false
   },
   "outputs": [],
   "source": [
    "from ncclient.operations import TimeoutExpiredError\n",
    "\n",
    "filter = '''\n",
    "<interfaces xmlns=\"http://cisco.com/ns/yang/Cisco-IOS-XR-pfi-im-cmd-oper\">\n",
    "  <interface-xr>\n",
    "    <interface>\n",
    "      <interface-name>MgmtEth0/RP0/CPU0/0</interface-name>\n",
    "      <interface-statistics/>\n",
    "    </interface>\n",
    "  </interface-xr>\n",
    "</interfaces>\n",
    "'''\n",
    "\n",
    "try:\n",
    "    c = m.get(filter=('subtree', filter))\n",
    "    pretty_print(c)\n",
    "except TimeoutExpiredError as e:\n",
    "    print(\"Operation timeout!\")\n",
    "except Exception as e:\n",
    "    print(\"severity={}, tag={}\".format(e.severity, e.tag))\n",
    "    print(e)"
   ]
  },
  {
   "cell_type": "markdown",
   "metadata": {},
   "source": [
    "### Zeroing In On Specific Stats Across Interfaces"
   ]
  },
  {
   "cell_type": "code",
   "execution_count": null,
   "metadata": {
    "collapsed": false
   },
   "outputs": [],
   "source": [
    "from ncclient.operations import TimeoutExpiredError\n",
    "\n",
    "filter = '''\n",
    "<interfaces xmlns=\"http://cisco.com/ns/yang/Cisco-IOS-XR-pfi-im-cmd-oper\">\n",
    "  <interface-xr>\n",
    "    <interface>\n",
    "      <interface-name>MgmtEth0/RP0/CPU0/0</interface-name>\n",
    "      <interface-statistics>\n",
    "        <full-interface-stats>\n",
    "          <packets-received/>\n",
    "          <bytes-received/>\n",
    "          <packets-sent/>\n",
    "          <bytes-sent/>\n",
    "        </full-interface-stats>\n",
    "      </interface-statistics>\n",
    "    </interface>\n",
    "  </interface-xr>\n",
    "</interfaces>\n",
    "'''\n",
    "\n",
    "try:\n",
    "    c = m.get(filter=('subtree', filter))\n",
    "    pretty_print(c)\n",
    "except TimeoutExpiredError as e:\n",
    "    print(\"Operation timeout!\")\n",
    "except Exception as e:\n",
    "    print(\"severity={}, tag={}\".format(e.severity, e.tag))\n",
    "    print(e)"
   ]
  },
  {
   "cell_type": "markdown",
   "metadata": {},
   "source": [
    "### QoS Statistics"
   ]
  },
  {
   "cell_type": "code",
   "execution_count": null,
   "metadata": {
    "collapsed": false
   },
   "outputs": [],
   "source": [
    "from ncclient.operations import TimeoutExpiredError\n",
    "from jinja2 import Template\n",
    "import jxmlease\n",
    "import json\n",
    "\n",
    "filter1 = Template('''\n",
    "<qos xmlns=\"http://cisco.com/ns/yang/Cisco-IOS-XR-qos-ma-oper\">\n",
    "  <interface-table>\n",
    "    <interface>\n",
    "      <interface-name>{{INTF_NAME}}</interface-name>\n",
    "      <input/>\n",
    "    </interface>\n",
    "  </interface-table>\n",
    "</qos>\n",
    "''')\n",
    "\n",
    "filter2 = Template('''\n",
    "<qos xmlns=\"http://cisco.com/ns/yang/Cisco-IOS-XR-qos-ma-oper\">\n",
    "  <interface-table/>\n",
    "</qos>\n",
    "''')\n",
    "\n",
    "\n",
    "filter3 = Template('''\n",
    "<qos xmlns=\"http://cisco.com/ns/yang/Cisco-IOS-XR-qos-ma-oper\">\n",
    "  <interface-table>\n",
    "    <interface>\n",
    "      <input/>\n",
    "      <output/>\n",
    "    </interface>\n",
    "  </interface-table>\n",
    "</qos>\n",
    "''')\n",
    "\n",
    "\n",
    "def display_qos_oper_info(direction, statistics):\n",
    "    print(\"  {} Policy Name {}\".format(direction, statistics['policy-name']))\n",
    "    for clazz in statistics['class-stats']:\n",
    "        print(\"    Class {}\".format(clazz['class-name']))\n",
    "        print(\"      General Stats:\")\n",
    "        for k in sorted(clazz['general-stats'].keys()):\n",
    "            print(\"        {}\".format(k))\n",
    "\n",
    "try:\n",
    "    c = m.get(filter=('subtree', filter2.render(INTF_NAME=\"GigabitEthernet0/0/0/0\")))\n",
    "    root = jxmlease.parse(c.data_xml)\n",
    "    print(json.dumps(root, indent=1, sort_keys=True))\n",
    "    for intf in root['data']['qos']['interface-table']['interface']:\n",
    "        print(intf['interface-name'])\n",
    "        input_data = intf.get('input')\n",
    "        if input_data:\n",
    "            display_qos_oper_info('Input', input_data['statistics'])\n",
    "        output_data = intf.get('output')\n",
    "        if output_data:\n",
    "            display_qos_oper_info('Output', input_data['statistics'])\n",
    "except TimeoutExpiredError as e:\n",
    "    print(\"Operation timeout!\")\n",
    "except Exception as e:\n",
    "    print(\"severity={}, tag={}\".format(e.severity, e.tag))\n",
    "    print(e)"
   ]
  },
  {
   "cell_type": "code",
   "execution_count": null,
   "metadata": {
    "collapsed": true
   },
   "outputs": [],
   "source": []
  }
 ],
 "metadata": {
  "kernelspec": {
   "display_name": "Python 2",
   "language": "python",
   "name": "python2"
  },
  "language_info": {
   "codemirror_mode": {
    "name": "ipython",
    "version": 2
   },
   "file_extension": ".py",
   "mimetype": "text/x-python",
   "name": "python",
   "nbconvert_exporter": "python",
   "pygments_lexer": "ipython2",
   "version": "2.7.6"
  }
 },
 "nbformat": 4,
 "nbformat_minor": 0
}
