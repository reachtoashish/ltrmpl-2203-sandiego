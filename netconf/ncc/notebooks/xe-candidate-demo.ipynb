{
 "cells": [
  {
   "cell_type": "markdown",
   "metadata": {},
   "source": [
    "# XE Candidate Datastore Demo\n",
    "\n",
    "This sample **doesn't attempt to lock or unlock datastores**, and thus assumes singular access."
   ]
  },
  {
   "cell_type": "code",
   "execution_count": 1,
   "metadata": {},
   "outputs": [],
   "source": [
    "HOST = '127.0.0.1'\n",
    "PORT_NC = 2223\n",
    "USER = 'vagrant'\n",
    "PASS = 'vagrant'"
   ]
  },
  {
   "cell_type": "markdown",
   "metadata": {},
   "source": [
    "## Connect ncclient"
   ]
  },
  {
   "cell_type": "code",
   "execution_count": 2,
   "metadata": {},
   "outputs": [],
   "source": [
    "from ncclient import manager\n",
    "from lxml import etree\n",
    "\n",
    "\n",
    "def pretty_print(retval):\n",
    "    print(etree.tostring(retval.data, pretty_print=True))\n",
    "\n",
    "def my_unknown_host_cb(host, fingerprint):\n",
    "    return True\n",
    "\n",
    "m = manager.connect(host=HOST, port=PORT_NC, username=USER, password=PASS,\n",
    "                    allow_agent=False,\n",
    "                    look_for_keys=False,\n",
    "                    hostkey_verify=False,\n",
    "                    unknown_host_cb=my_unknown_host_cb)"
   ]
  },
  {
   "cell_type": "markdown",
   "metadata": {},
   "source": [
    "## Loopback Addition Sample Edit Config"
   ]
  },
  {
   "cell_type": "code",
   "execution_count": 3,
   "metadata": {},
   "outputs": [],
   "source": [
    "config = '''<config>\n",
    "  <native xmlns=\"http://cisco.com/ns/yang/Cisco-IOS-XE-native\">\n",
    "    <interface>\n",
    "      <Loopback>\n",
    "        <name>101</name>\n",
    "        <description>hello</description>\n",
    "      </Loopback>\n",
    "    </interface>\n",
    "  </native>\n",
    "</config>\n",
    "'''"
   ]
  },
  {
   "cell_type": "code",
   "execution_count": 4,
   "metadata": {},
   "outputs": [],
   "source": [
    "running_before = m.get_config(source='running', filter=('xpath', '/native')).data"
   ]
  },
  {
   "cell_type": "code",
   "execution_count": 5,
   "metadata": {},
   "outputs": [
    {
     "data": {
      "text/plain": [
       "<?xml version=\"1.0\" encoding=\"UTF-8\"?>\n",
       "<rpc-reply xmlns=\"urn:ietf:params:xml:ns:netconf:base:1.0\" message-id=\"urn:uuid:3662503e-660c-4bb2-a0e4-41a50c39d62c\" xmlns:nc=\"urn:ietf:params:xml:ns:netconf:base:1.0\"><ok/></rpc-reply>"
      ]
     },
     "execution_count": 5,
     "metadata": {},
     "output_type": "execute_result"
    }
   ],
   "source": [
    "m.edit_config(config, format='xml', target='candidate', default_operation='merge')"
   ]
  },
  {
   "cell_type": "code",
   "execution_count": 6,
   "metadata": {},
   "outputs": [],
   "source": [
    "running_after = m.get_config(source='running', filter=('xpath', '/native')).data"
   ]
  },
  {
   "cell_type": "code",
   "execution_count": 7,
   "metadata": {},
   "outputs": [],
   "source": [
    "candidate_after = m.get_config(source='candidate', filter=('xpath', '/native')).data"
   ]
  },
  {
   "cell_type": "markdown",
   "metadata": {},
   "source": [
    "### Display An XML Diff In Text Form"
   ]
  },
  {
   "cell_type": "code",
   "execution_count": 8,
   "metadata": {},
   "outputs": [
    {
     "name": "stdout",
     "output_type": "stream",
     "text": [
      "*** \n",
      "\n",
      "--- \n",
      "\n",
      "***************\n",
      "\n",
      "*** 145,150 ****\n",
      "\n",
      "--- 145,154 ----\n",
      "\n",
      "            <auto>true</auto>\n",
      "          </negotiation>\n",
      "        </GigabitEthernet>\n",
      "+       <Loopback>\n",
      "+         <name>101</name>\n",
      "+         <description>hello</description>\n",
      "+       </Loopback>\n",
      "      </interface>\n",
      "      <control-plane/>\n",
      "      <multilink>\n"
     ]
    }
   ],
   "source": [
    "from difflib import context_diff\n",
    "\n",
    "running_before_xml = etree.tostring(running_before, pretty_print=True)\n",
    "running_after_xml = etree.tostring(running_after, pretty_print=True)\n",
    "candidate_after_xml = etree.tostring(candidate_after, pretty_print=True)\n",
    "\n",
    "#\n",
    "# remember to skip the first few lines that have timestamps & stuff that may differ\n",
    "#\n",
    "print('\\n'.join(context_diff(running_after_xml.decode().splitlines(),\n",
    "                             candidate_after_xml.decode().splitlines())))"
   ]
  },
  {
   "cell_type": "markdown",
   "metadata": {},
   "source": [
    "### Commit Or Discard?"
   ]
  },
  {
   "cell_type": "code",
   "execution_count": null,
   "metadata": {},
   "outputs": [],
   "source": [
    "m.commit()"
   ]
  },
  {
   "cell_type": "code",
   "execution_count": 9,
   "metadata": {},
   "outputs": [
    {
     "data": {
      "text/plain": [
       "<?xml version=\"1.0\" encoding=\"UTF-8\"?>\n",
       "<rpc-reply xmlns=\"urn:ietf:params:xml:ns:netconf:base:1.0\" message-id=\"urn:uuid:e9177690-517b-4bf4-8eb9-675eff17c7bd\" xmlns:nc=\"urn:ietf:params:xml:ns:netconf:base:1.0\"><ok/></rpc-reply>"
      ]
     },
     "execution_count": 9,
     "metadata": {},
     "output_type": "execute_result"
    }
   ],
   "source": [
    "m.discard_changes()"
   ]
  },
  {
   "cell_type": "markdown",
   "metadata": {},
   "source": [
    "# BGP Remove Sample Edit Config"
   ]
  },
  {
   "cell_type": "code",
   "execution_count": 10,
   "metadata": {},
   "outputs": [],
   "source": [
    "config = '''<config xmlns:nc=\"urn:ietf:params:xml:ns:netconf:base:1.0\">\n",
    "  <native xmlns=\"http://cisco.com/ns/yang/Cisco-IOS-XE-native\">\n",
    "    <router>\n",
    "      <bgp xmlns=\"http://cisco.com/ns/yang/Cisco-IOS-XE-bgp\" nc:operation=\"remove\">\n",
    "        <id>101</id>\n",
    "      </bgp>\n",
    "    </router>\n",
    "  </native>\n",
    "</config>\n",
    "'''"
   ]
  },
  {
   "cell_type": "code",
   "execution_count": 11,
   "metadata": {},
   "outputs": [],
   "source": [
    "running_before = m.get_config(source='running', filter=('xpath', '/native')).data"
   ]
  },
  {
   "cell_type": "code",
   "execution_count": 12,
   "metadata": {},
   "outputs": [
    {
     "data": {
      "text/plain": [
       "<?xml version=\"1.0\" encoding=\"UTF-8\"?>\n",
       "<rpc-reply xmlns=\"urn:ietf:params:xml:ns:netconf:base:1.0\" message-id=\"urn:uuid:7bba143b-99e8-4936-8b6e-7b64441383e1\" xmlns:nc=\"urn:ietf:params:xml:ns:netconf:base:1.0\"><ok/></rpc-reply>"
      ]
     },
     "execution_count": 12,
     "metadata": {},
     "output_type": "execute_result"
    }
   ],
   "source": [
    "m.edit_config(config, format='xml', target='candidate', default_operation='merge')"
   ]
  },
  {
   "cell_type": "code",
   "execution_count": 13,
   "metadata": {},
   "outputs": [],
   "source": [
    "running_after = m.get_config(source='running', filter=('xpath', '/native')).data"
   ]
  },
  {
   "cell_type": "code",
   "execution_count": 14,
   "metadata": {},
   "outputs": [],
   "source": [
    "candidate_after = m.get_config(source='candidate', filter=('xpath', '/native')).data"
   ]
  },
  {
   "cell_type": "markdown",
   "metadata": {},
   "source": [
    "### Display An XML Diff In Text Form"
   ]
  },
  {
   "cell_type": "code",
   "execution_count": 15,
   "metadata": {},
   "outputs": [
    {
     "name": "stdout",
     "output_type": "stream",
     "text": [
      "*** \n",
      "\n",
      "--- \n",
      "\n",
      "***************\n",
      "\n",
      "*** 183,216 ****\n",
      "\n",
      "          </trustpoint>\n",
      "        </pki>\n",
      "      </crypto>\n",
      "-     <router>\n",
      "-       <bgp xmlns=\"http://cisco.com/ns/yang/Cisco-IOS-XE-bgp\">\n",
      "-         <id>101</id>\n",
      "-         <bgp>\n",
      "-           <router-id>172.16.1.1</router-id>\n",
      "-           <log-neighbor-changes/>\n",
      "-         </bgp>\n",
      "-         <neighbor>\n",
      "-           <id>10.10.10.2</id>\n",
      "-           <remote-as>102</remote-as>\n",
      "-         </neighbor>\n",
      "-         <address-family>\n",
      "-           <no-vrf>\n",
      "-             <ipv4>\n",
      "-               <af-name>unicast</af-name>\n",
      "-               <neighbor>\n",
      "-                 <id>10.10.10.2</id>\n",
      "-                 <activate/>\n",
      "-               </neighbor>\n",
      "-               <network>\n",
      "-                 <number>172.18.1.0</number>\n",
      "-                 <mask>255.255.255.0</mask>\n",
      "-               </network>\n",
      "-             </ipv4>\n",
      "-           </no-vrf>\n",
      "-         </address-family>\n",
      "-       </bgp>\n",
      "-     </router>\n",
      "      <license>\n",
      "        <udi>\n",
      "          <pid>CSR1000V</pid>\n",
      "--- 183,188 ----\n",
      "\n"
     ]
    }
   ],
   "source": [
    "from difflib import context_diff\n",
    "\n",
    "running_before_xml = etree.tostring(running_before, pretty_print=True)\n",
    "running_after_xml = etree.tostring(running_after, pretty_print=True)\n",
    "candidate_after_xml = etree.tostring(candidate_after, pretty_print=True)\n",
    "\n",
    "#\n",
    "# remember to skip the first few lines that have timestamps & stuff that may differ\n",
    "#\n",
    "print('\\n'.join(context_diff(running_after_xml.decode().splitlines(),\n",
    "                             candidate_after_xml.decode().splitlines())))"
   ]
  },
  {
   "cell_type": "markdown",
   "metadata": {},
   "source": [
    "### Commit Or Discard?"
   ]
  },
  {
   "cell_type": "code",
   "execution_count": null,
   "metadata": {},
   "outputs": [],
   "source": [
    "m.commit()"
   ]
  },
  {
   "cell_type": "code",
   "execution_count": 16,
   "metadata": {},
   "outputs": [
    {
     "data": {
      "text/plain": [
       "<?xml version=\"1.0\" encoding=\"UTF-8\"?>\n",
       "<rpc-reply xmlns=\"urn:ietf:params:xml:ns:netconf:base:1.0\" message-id=\"urn:uuid:f9f2d6f0-3c1a-4f86-ae4a-4fd40d6b8eb2\" xmlns:nc=\"urn:ietf:params:xml:ns:netconf:base:1.0\"><ok/></rpc-reply>"
      ]
     },
     "execution_count": 16,
     "metadata": {},
     "output_type": "execute_result"
    }
   ],
   "source": [
    "m.discard_changes()"
   ]
  },
  {
   "cell_type": "markdown",
   "metadata": {},
   "source": [
    "## Diff Before & After (XML)"
   ]
  },
  {
   "cell_type": "markdown",
   "metadata": {},
   "source": [
    "## Tidyup Sessions"
   ]
  },
  {
   "cell_type": "code",
   "execution_count": 17,
   "metadata": {},
   "outputs": [
    {
     "data": {
      "text/plain": [
       "<?xml version=\"1.0\" encoding=\"UTF-8\"?>\n",
       "<rpc-reply xmlns=\"urn:ietf:params:xml:ns:netconf:base:1.0\" message-id=\"urn:uuid:cdf2c970-f35e-4afd-83ee-014eb91f3e1d\" xmlns:nc=\"urn:ietf:params:xml:ns:netconf:base:1.0\"><ok/></rpc-reply>"
      ]
     },
     "execution_count": 17,
     "metadata": {},
     "output_type": "execute_result"
    }
   ],
   "source": [
    "m.close_session()"
   ]
  },
  {
   "cell_type": "code",
   "execution_count": null,
   "metadata": {},
   "outputs": [],
   "source": []
  }
 ],
 "metadata": {
  "kernelspec": {
   "display_name": "Python 2",
   "language": "python",
   "name": "python2"
  },
  "language_info": {
   "codemirror_mode": {
    "name": "ipython",
    "version": 3
   },
   "file_extension": ".py",
   "mimetype": "text/x-python",
   "name": "python",
   "nbconvert_exporter": "python",
   "pygments_lexer": "ipython3",
   "version": "3.6.5"
  }
 },
 "nbformat": 4,
 "nbformat_minor": 2
}
