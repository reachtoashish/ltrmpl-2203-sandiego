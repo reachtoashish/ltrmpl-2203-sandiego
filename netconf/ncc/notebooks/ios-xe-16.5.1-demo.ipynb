{
 "cells": [
  {
   "cell_type": "markdown",
   "metadata": {
    "deletable": true,
    "editable": true
   },
   "source": [
    "# IOS-XE 16.5.1 EFT Image Demo"
   ]
  },
  {
   "cell_type": "markdown",
   "metadata": {
    "deletable": true,
    "editable": true
   },
   "source": [
    "## Connecting to a Device"
   ]
  },
  {
   "cell_type": "markdown",
   "metadata": {
    "deletable": true,
    "editable": true
   },
   "source": [
    "Let's define some variables:"
   ]
  },
  {
   "cell_type": "code",
   "execution_count": null,
   "metadata": {
    "collapsed": false,
    "deletable": true,
    "editable": true,
    "scrolled": true
   },
   "outputs": [],
   "source": [
    "# Local CSR 1000v (running under vagrant) -- rtr1\n",
    "HOST = '127.0.0.1'\n",
    "PORT = 2223\n",
    "USER = 'vagrant'\n",
    "PASS = 'vagrant'"
   ]
  },
  {
   "cell_type": "code",
   "execution_count": null,
   "metadata": {
    "collapsed": false,
    "deletable": true,
    "editable": true,
    "scrolled": true
   },
   "outputs": [],
   "source": [
    "# Local CSR 1000v (running under vagrant) -- rtr2\n",
    "#HOST = '127.0.0.1'\n",
    "#PORT = 2200\n",
    "#USER = 'vagrant'\n",
    "#PASS = 'vagrant'"
   ]
  },
  {
   "cell_type": "markdown",
   "metadata": {
    "deletable": true,
    "editable": true
   },
   "source": [
    "Now let's establish a NETCONF session to that box using ncclient:"
   ]
  },
  {
   "cell_type": "code",
   "execution_count": null,
   "metadata": {
    "collapsed": false,
    "deletable": true,
    "editable": true,
    "scrolled": true
   },
   "outputs": [],
   "source": [
    "from ncclient import manager\n",
    "from lxml import etree\n",
    "\n",
    "def pretty_print(retval):\n",
    "        print(etree.tostring(retval.data, pretty_print=True))\n",
    "\n",
    "def my_unknown_host_cb(host, fingerprint):\n",
    "    return True\n",
    "    \n",
    "m = manager.connect(host=HOST, port=PORT, username=USER, password=PASS,\n",
    "                    allow_agent=False,\n",
    "                    look_for_keys=False,\n",
    "                    hostkey_verify=False,\n",
    "                    unknown_host_cb=my_unknown_host_cb)"
   ]
  },
  {
   "cell_type": "markdown",
   "metadata": {
    "deletable": true,
    "editable": true
   },
   "source": [
    "## Capabilities"
   ]
  },
  {
   "cell_type": "markdown",
   "metadata": {
    "deletable": true,
    "editable": true
   },
   "source": [
    "Let's look at the capabilities presented by the thing we've just connected to:"
   ]
  },
  {
   "cell_type": "code",
   "execution_count": null,
   "metadata": {
    "collapsed": false,
    "deletable": true,
    "editable": true,
    "scrolled": true
   },
   "outputs": [],
   "source": [
    "for c in m.server_capabilities:\n",
    "    print(c)"
   ]
  },
  {
   "cell_type": "markdown",
   "metadata": {
    "collapsed": true,
    "deletable": true,
    "editable": true
   },
   "source": [
    "Ok, that's a bit messy, so let's tidy it up a bit and look, initially, at all the base netconf capabilities:"
   ]
  },
  {
   "cell_type": "code",
   "execution_count": null,
   "metadata": {
    "collapsed": false,
    "deletable": true,
    "editable": true,
    "scrolled": false
   },
   "outputs": [],
   "source": [
    "nc_caps = [c for c in m.server_capabilities if c.startswith('urn:ietf:params:netconf')]\n",
    "for c in nc_caps:\n",
    "    print(c)"
   ]
  },
  {
   "cell_type": "markdown",
   "metadata": {
    "collapsed": true,
    "deletable": true,
    "editable": true
   },
   "source": [
    "And now let's look at the capabilities that are related to model support:"
   ]
  },
  {
   "cell_type": "code",
   "execution_count": null,
   "metadata": {
    "collapsed": false,
    "deletable": true,
    "editable": true,
    "scrolled": true
   },
   "outputs": [],
   "source": [
    "import re\n",
    "\n",
    "for c in m.server_capabilities:\n",
    "    model = re.search('module=([^&]*)&', c)\n",
    "    if model is not None:\n",
    "        print(\"{}\".format(model.group(1)))\n",
    "\n",
    "        revision = re.search('revision=([0-9]{4}-[0-9]{2}-[0-9]{2})', c)\n",
    "        if revision is not None:\n",
    "            print(\"  revision = {}\".format(revision.group(1)))\n",
    "\n",
    "        deviations = re.search('deviations=([a-zA-Z0-9\\-,]+)($|&)',c)\n",
    "        if deviations is not None:\n",
    "            print(\"  deviations = {}\".format(deviations.group(1)))\n",
    "\n",
    "        features = re.search('features=([a-zA-Z0-9\\-,]+)($|&)',c)\n",
    "        if features is not None:\n",
    "            print(\"  features = {}\".format(features.group(1)))"
   ]
  },
  {
   "cell_type": "markdown",
   "metadata": {},
   "source": [
    "## Schema\n",
    "\n",
    "Let's take a look at playing with schema. First, we can try downloading them, picking one of the modules we got capabilities for."
   ]
  },
  {
   "cell_type": "code",
   "execution_count": null,
   "metadata": {
    "collapsed": false,
    "scrolled": true
   },
   "outputs": [],
   "source": [
    "SCHEMA_TO_GET = 'Cisco-IOS-XE-native'\n",
    "\n",
    "c = m.get_schema(SCHEMA_TO_GET)\n",
    "print(c.data)"
   ]
  },
  {
   "cell_type": "markdown",
   "metadata": {},
   "source": [
    "That's not so readable. Let's use a utility called ```pyang``` to get something a bit more readable."
   ]
  },
  {
   "cell_type": "code",
   "execution_count": null,
   "metadata": {
    "collapsed": false,
    "scrolled": true
   },
   "outputs": [],
   "source": [
    "from subprocess import Popen, PIPE, STDOUT\n",
    "\n",
    "SCHEMA_TO_GET = 'Cisco-IOS-XE-native'\n",
    "#SCHEMA_TO_GET = 'ietf-interfaces'\n",
    "\n",
    "\n",
    "c = m.get_schema(SCHEMA_TO_GET)\n",
    "p = Popen(['pyang', '-f', 'tree'], stdout=PIPE, stdin=PIPE, stderr=PIPE)\n",
    "stdout_data = p.communicate(input=c.data)[0]\n",
    "\n",
    "print(stdout_data)"
   ]
  },
  {
   "cell_type": "markdown",
   "metadata": {
    "deletable": true,
    "editable": true
   },
   "source": [
    "## What About Config?\n",
    "\n",
    "The ncclient library provides for some simple operations. Let's skip thinking about schemas and stuff like that. Instead let's focus on config and getting end setting it. For that, ncclient provides two methods:\n",
    "\n",
    "* get_config - takes a target data store and an optional filter\n",
    "* edit_config - takes a target data store and an XML document with the edit request"
   ]
  },
  {
   "cell_type": "markdown",
   "metadata": {
    "deletable": true,
    "editable": true
   },
   "source": [
    "### Getting Config\n",
    "\n",
    "Let's look at some simple requests..."
   ]
  },
  {
   "cell_type": "code",
   "execution_count": null,
   "metadata": {
    "collapsed": false,
    "deletable": true,
    "editable": true,
    "scrolled": true
   },
   "outputs": [],
   "source": [
    "c = m.get_config(source='running')\n",
    "pretty_print(c)"
   ]
  },
  {
   "cell_type": "markdown",
   "metadata": {
    "deletable": true,
    "editable": true
   },
   "source": [
    "Now let's add in a simple filter:"
   ]
  },
  {
   "cell_type": "code",
   "execution_count": null,
   "metadata": {
    "collapsed": false,
    "deletable": true,
    "editable": true,
    "scrolled": true
   },
   "outputs": [],
   "source": [
    "filter = '''\n",
    "<native>\n",
    " <username/>\n",
    "</native>\n",
    "'''\n",
    "c = m.get_config(source='running', filter=('subtree', filter))\n",
    "pretty_print(c)"
   ]
  },
  {
   "cell_type": "markdown",
   "metadata": {
    "deletable": true,
    "editable": true
   },
   "source": [
    "### Retrieve Interface Data (Native Model)"
   ]
  },
  {
   "cell_type": "code",
   "execution_count": null,
   "metadata": {
    "collapsed": false,
    "deletable": true,
    "editable": true,
    "scrolled": false
   },
   "outputs": [],
   "source": [
    "filter = '''\n",
    "<native xmlns=\"http://cisco.com/ns/yang/Cisco-IOS-XE-native\">\n",
    "  <interface/>\n",
    "</native>\n",
    "'''\n",
    "c = m.get_config(source='running', filter=('subtree', filter))\n",
    "pretty_print(c)"
   ]
  },
  {
   "cell_type": "markdown",
   "metadata": {
    "deletable": true,
    "editable": true
   },
   "source": [
    "### Retrieve Interface Data (Native Model) With XPath Query\n",
    "\n",
    "As well as subtree filters, IOS-XE support XPath-based filters."
   ]
  },
  {
   "cell_type": "code",
   "execution_count": null,
   "metadata": {
    "collapsed": false,
    "deletable": true,
    "editable": true,
    "scrolled": false
   },
   "outputs": [],
   "source": [
    "filter = '/native/interface/GigabitEthernet/name'\n",
    "\n",
    "c = m.get_config(source='running', filter=('xpath', filter))\n",
    "pretty_print(c)"
   ]
  },
  {
   "cell_type": "markdown",
   "metadata": {
    "deletable": true,
    "editable": true
   },
   "source": [
    "### Retrieve All BGP Data\n",
    "\n",
    "Now let's look at the BGP native model:"
   ]
  },
  {
   "cell_type": "code",
   "execution_count": null,
   "metadata": {
    "collapsed": false,
    "deletable": true,
    "editable": true,
    "scrolled": false
   },
   "outputs": [],
   "source": [
    "filter = '''\n",
    "<native xmlns=\"http://cisco.com/ns/yang/Cisco-IOS-XE-native\">\n",
    " <router>\n",
    "   <bgp xmlns=\"http://cisco.com/ns/yang/Cisco-IOS-XE-bgp\"/>\n",
    " </router>\n",
    "</native>\n",
    "'''\n",
    "c = m.get_config(source='running', filter=('subtree', filter))\n",
    "pretty_print(c)"
   ]
  },
  {
   "cell_type": "markdown",
   "metadata": {
    "deletable": true,
    "editable": true
   },
   "source": [
    "### Look At A Specific BGP Neighbor\n",
    "\n",
    "And can we look at a specific neighbor only? Say the one with id (address) ```192.168.0.1```?"
   ]
  },
  {
   "cell_type": "code",
   "execution_count": null,
   "metadata": {
    "collapsed": false,
    "deletable": true,
    "editable": true,
    "scrolled": false
   },
   "outputs": [],
   "source": [
    "filter = '''\n",
    "<native>\n",
    "  <router>\n",
    "    <bgp xmlns=\"http://cisco.com/ns/yang/Cisco-IOS-XE-bgp\">\n",
    "      <id>123</id>\n",
    "      <neighbor>\n",
    "        <id>192.168.0.1</id>\n",
    "      </neighbor>\n",
    "    </bgp>\n",
    "  </router>\n",
    "</native>\n",
    "'''\n",
    "c = m.get_config(source='running', filter=('subtree', filter))\n",
    "pretty_print(c)"
   ]
  },
  {
   "cell_type": "markdown",
   "metadata": {
    "deletable": true,
    "editable": true
   },
   "source": [
    "### Create New BGP Neighbor\n",
    "\n",
    "Ok, so, yes we can get a specific neighbor. Now, can we create a new neighbor? Let's create one with an id of '192.168.1.1', with a remote-as of 666."
   ]
  },
  {
   "cell_type": "code",
   "execution_count": null,
   "metadata": {
    "collapsed": false,
    "deletable": true,
    "editable": true,
    "scrolled": true
   },
   "outputs": [],
   "source": [
    "from ncclient.operations import TimeoutExpiredError\n",
    "\n",
    "edit_data = '''\n",
    "<config>\n",
    "  <native xmlns=\"http://cisco.com/ns/yang/Cisco-IOS-XE-native\">\n",
    "    <router>\n",
    "      <bgp xmlns=\"http://cisco.com/ns/yang/Cisco-IOS-XE-bgp\">\n",
    "        <id>123</id>\n",
    "        <neighbor nc:operation=\"merge\">\n",
    "          <id>192.168.1.1</id>\n",
    "          <remote-as>666</remote-as>\n",
    "        </neighbor>\n",
    "      </bgp>\n",
    "    </router>\n",
    "  </native>\n",
    "</config>\n",
    "'''\n",
    "\n",
    "try:\n",
    "    edit_reply = m.edit_config(edit_data, target='running', format='xml')\n",
    "except TimeoutExpiredError as e:\n",
    "    print(\"Operation timeout!\")\n",
    "except Exception as e:\n",
    "    print(\"severity={}, tag={}\".format(e.severity, e.tag))\n",
    "    print(e)"
   ]
  },
  {
   "cell_type": "markdown",
   "metadata": {
    "deletable": true,
    "editable": true
   },
   "source": [
    "Now let's pull back that neighbor:"
   ]
  },
  {
   "cell_type": "code",
   "execution_count": null,
   "metadata": {
    "collapsed": false,
    "deletable": true,
    "editable": true,
    "scrolled": true
   },
   "outputs": [],
   "source": [
    "filter = '''\n",
    "<native xmlns=\"http://cisco.com/ns/yang/Cisco-IOS-XE-native\">\n",
    "  <router>\n",
    "    <bgp xmlns=\"http://cisco.com/ns/yang/Cisco-IOS-XE-bgp\">\n",
    "      <id>123</id>\n",
    "      <neighbor>\n",
    "        <id>192.168.1.1</id>\n",
    "      </neighbor>\n",
    "    </bgp>\n",
    "  </router>\n",
    "</native>\n",
    "'''\n",
    "c = m.get_config(source='running', filter=('subtree', filter))\n",
    "pretty_print(c)"
   ]
  },
  {
   "cell_type": "markdown",
   "metadata": {
    "deletable": true,
    "editable": true
   },
   "source": [
    "### Modify The BGP Neighbor Description\n",
    "\n",
    "Can modify something in the neighbor we just created? Let's keep it simple and modify the description:"
   ]
  },
  {
   "cell_type": "code",
   "execution_count": null,
   "metadata": {
    "collapsed": false,
    "deletable": true,
    "editable": true,
    "scrolled": true
   },
   "outputs": [],
   "source": [
    "from ncclient.operations import TimeoutExpiredError\n",
    "\n",
    "edit_data = '''\n",
    "<config>\n",
    "  <native xmlns=\"http://cisco.com/ns/yang/Cisco-IOS-XE-native\">\n",
    "    <router>\n",
    "      <bgp xmlns=\"http://cisco.com/ns/yang/Cisco-IOS-XE-bgp\">\n",
    "        <id>123</id>\n",
    "        <neighbor>\n",
    "          <id>192.168.1.1</id>\n",
    "          <description nc:operation=\"merge\">modified description</description>\n",
    "        </neighbor>\n",
    "      </bgp>\n",
    "    </router>\n",
    "  </native>\n",
    "</config>\n",
    "'''\n",
    "\n",
    "try:\n",
    "    edit_reply = m.edit_config(edit_data, target='running', format='xml')\n",
    "except TimeoutExpiredError as e:\n",
    "    print(\"Operation timeout!\")\n",
    "except Exception as e:\n",
    "    print(\"severity={}, tag={}\".format(e.severity, e.tag))\n",
    "    print(e)"
   ]
  },
  {
   "cell_type": "markdown",
   "metadata": {
    "deletable": true,
    "editable": true
   },
   "source": [
    "### Delete A BGP Neighbor\n",
    "\n",
    "Might need to do this before creating depending on the state of the router!"
   ]
  },
  {
   "cell_type": "code",
   "execution_count": null,
   "metadata": {
    "collapsed": false,
    "deletable": true,
    "editable": true,
    "scrolled": true
   },
   "outputs": [],
   "source": [
    "from ncclient.operations import TimeoutExpiredError\n",
    "from lxml.etree import XMLSyntaxError\n",
    "\n",
    "edit_data = '''\n",
    "<config>\n",
    "  <native xmlns=\"http://cisco.com/ns/yang/Cisco-IOS-XE-native\">\n",
    "    <router>\n",
    "      <bgp xmlns=\"http://cisco.com/ns/yang/Cisco-IOS-XE-bgp\">\n",
    "        <id>123</id>\n",
    "        <neighbor nc:operation=\"delete\">\n",
    "          <id>192.168.1.1</id>\n",
    "        </neighbor>\n",
    "      </bgp>\n",
    "    </router>\n",
    "  </native>\n",
    "</config>\n",
    "'''\n",
    "\n",
    "try:\n",
    "    edit_reply = m.edit_config(edit_data, target='running', format='xml')\n",
    "except TimeoutExpiredError as e:\n",
    "    print(\"Operation timeout!\")\n",
    "except XMLSyntaxError as e:\n",
    "    print(e)\n",
    "    print(e.args)\n",
    "    print(dir(e))\n",
    "except Exception as e:\n",
    "    print(\"severity={}, tag={}\".format(e.severity, e.tag))\n",
    "    print(e)"
   ]
  },
  {
   "cell_type": "markdown",
   "metadata": {
    "deletable": true,
    "editable": true
   },
   "source": [
    "## Other Stuff"
   ]
  },
  {
   "cell_type": "markdown",
   "metadata": {
    "deletable": true,
    "editable": true
   },
   "source": [
    "Get interface data from native model:"
   ]
  },
  {
   "cell_type": "code",
   "execution_count": null,
   "metadata": {
    "collapsed": false,
    "deletable": true,
    "editable": true,
    "scrolled": true
   },
   "outputs": [],
   "source": [
    "filter = '''\n",
    "<native xmlns=\"http://cisco.com/ns/yang/Cisco-IOS-XE-native\">\n",
    "  <interface/>\n",
    "</native>\n",
    "'''\n",
    "c = m.get_config(source='running', filter=('subtree', filter))\n",
    "pretty_print(c)"
   ]
  },
  {
   "cell_type": "code",
   "execution_count": null,
   "metadata": {
    "collapsed": false,
    "deletable": true,
    "editable": true,
    "scrolled": true
   },
   "outputs": [],
   "source": [
    "filter = '''\n",
    "<native xmlns=\"http://cisco.com/ns/yang/Cisco-IOS-XE-native\">\n",
    "  <interface>\n",
    "    <GigabitEthernet>\n",
    "      <name/>\n",
    "      <ip/>\n",
    "    </GigabitEthernet>\n",
    "  </interface>\n",
    "</native>\n",
    "'''\n",
    "c = m.get_config(source='running', filter=('subtree', filter))\n",
    "pretty_print(c)"
   ]
  },
  {
   "cell_type": "code",
   "execution_count": null,
   "metadata": {
    "collapsed": false,
    "deletable": true,
    "editable": true,
    "scrolled": true
   },
   "outputs": [],
   "source": [
    "filter = '''\n",
    "<native xmlns=\"http://cisco.com/ns/yang/Cisco-IOS-XE-native\">\n",
    "  <interface>\n",
    "    <GigabitEthernet>\n",
    "      <name>1</name>\n",
    "    </GigabitEthernet>\n",
    "  </interface>\n",
    "</native>\n",
    "'''\n",
    "c = m.get_config(source='running', filter=('subtree', filter))\n",
    "pretty_print(c)"
   ]
  },
  {
   "cell_type": "markdown",
   "metadata": {
    "deletable": true,
    "editable": true
   },
   "source": [
    "Get interfaces from IETF model:"
   ]
  },
  {
   "cell_type": "code",
   "execution_count": null,
   "metadata": {
    "collapsed": false,
    "deletable": true,
    "editable": true,
    "scrolled": true
   },
   "outputs": [],
   "source": [
    "filter = '''\n",
    "<interfaces xmlns=\"urn:ietf:params:xml:ns:yang:ietf-interfaces\"/>\n",
    "'''\n",
    "c = m.get_config(source='running', filter=('subtree', filter))\n",
    "pretty_print(c)"
   ]
  },
  {
   "cell_type": "markdown",
   "metadata": {
    "deletable": true,
    "editable": true
   },
   "source": [
    "# Enable Debugging"
   ]
  },
  {
   "cell_type": "code",
   "execution_count": null,
   "metadata": {
    "collapsed": false,
    "deletable": true,
    "editable": true,
    "scrolled": true
   },
   "outputs": [],
   "source": [
    "import logging\n",
    "\n",
    "handler = logging.StreamHandler()\n",
    "for l in ['ncclient.transport.ssh', 'ncclient.transport.session', 'ncclient.operations.rpc']:\n",
    "    logger = logging.getLogger(l)\n",
    "    logger.addHandler(handler)\n",
    "    logger.setLevel(logging.DEBUG)"
   ]
  }
 ],
 "metadata": {
  "kernelspec": {
   "display_name": "Python 2",
   "language": "python",
   "name": "python2"
  },
  "language_info": {
   "codemirror_mode": {
    "name": "ipython",
    "version": 2
   },
   "file_extension": ".py",
   "mimetype": "text/x-python",
   "name": "python",
   "nbconvert_exporter": "python",
   "pygments_lexer": "ipython2",
   "version": "2.7.12"
  }
 },
 "nbformat": 4,
 "nbformat_minor": 0
}
