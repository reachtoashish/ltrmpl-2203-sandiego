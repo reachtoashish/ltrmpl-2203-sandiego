{
 "cells": [
  {
   "cell_type": "code",
   "execution_count": null,
   "metadata": {
    "collapsed": true
   },
   "outputs": [],
   "source": [
    "#\n",
    "# Only run this code if you want to see lots of debug!!\n",
    "#\n",
    "#import logging\n",
    "\n",
    "#handler = logging.StreamHandler()\n",
    "#for l in ['ncclient.transport.session', 'ncclient.operations.rpc']:\n",
    "#    logger = logging.getLogger(l)\n",
    "#    logger.addHandler(handler)\n",
    "#    logger.setLevel(logging.DEBUG)"
   ]
  },
  {
   "cell_type": "markdown",
   "metadata": {},
   "source": [
    "Put in your own details below...this IP address is a test machine for the DMI team in SJC."
   ]
  },
  {
   "cell_type": "code",
   "execution_count": null,
   "metadata": {
    "collapsed": true
   },
   "outputs": [],
   "source": [
    "# ASR1K\n",
    "HOST = '172.27.255.40'\n",
    "PORT = 830\n",
    "USER = 'admin'\n",
    "PASS = 'admin'"
   ]
  },
  {
   "cell_type": "code",
   "execution_count": null,
   "metadata": {
    "collapsed": true
   },
   "outputs": [],
   "source": [
    "# 3850\n",
    "HOST = '10.85.70.86'\n",
    "PORT = 830\n",
    "USER = 'admin'\n",
    "PASS = 'admin'"
   ]
  },
  {
   "cell_type": "markdown",
   "metadata": {},
   "source": [
    "### Basic YDK initialization"
   ]
  },
  {
   "cell_type": "code",
   "execution_count": null,
   "metadata": {
    "collapsed": false
   },
   "outputs": [],
   "source": [
    "from ydk.types import Empty\n",
    "from ydk.errors import YPYError\n",
    "from ydk.services import CRUDService\n",
    "from ydk.providers import NetconfServiceProvider\n",
    "\n",
    "session = NetconfServiceProvider(\n",
    "    address=HOST,\n",
    "    port=PORT,\n",
    "    username=USER,\n",
    "    password=PASS,\n",
    "    protocol='ssh')\n",
    "\n",
    "# Initialize a CRUD service\n",
    "c = CRUDService()"
   ]
  },
  {
   "cell_type": "markdown",
   "metadata": {},
   "source": [
    "### Some helpers to print, create and delete Loopbacks"
   ]
  },
  {
   "cell_type": "code",
   "execution_count": null,
   "metadata": {
    "collapsed": false
   },
   "outputs": [],
   "source": [
    "import ydk.models.ned as ned\n",
    "\n",
    "# create a Loopback\n",
    "def create_loopback(index):\n",
    "    new_loopback = ned.Native.Interface.Loopback()\n",
    "    new_loopback.name = index\n",
    "    c.create(session, new_loopback)\n",
    "\n",
    "# create a list of Loopbacks\n",
    "def create_loopback_list(index_list):\n",
    "    intf_container = ned.Native.Interface()\n",
    "    for index in index_list:\n",
    "        new_loopback = ned.Native.Interface.Loopback()\n",
    "        new_loopback.name = index\n",
    "        new_loopback.description = \"Created Interface {}\".format(index)\n",
    "        intf_container.loopback.append(new_loopback)\n",
    "    c.create(session, intf_container)\n",
    "\n",
    "# delete a Loopback\n",
    "def delete_loopback(index):\n",
    "    new_loopback = ned.Native.Interface.Loopback()\n",
    "    new_loopback.name = index\n",
    "    c.delete(session, new_loopback)\n",
    "\n",
    "def print_loopbacks():\n",
    "    q_loopbacks = ned.Native.Interface.Loopback()\n",
    "    loopbacks = c.read(session, q_loopbacks)\n",
    "    print \"Loopbacks:\"\n",
    "    for l in loopbacks:\n",
    "        print \"  {} {}\".format(l.name, l.description)"
   ]
  },
  {
   "cell_type": "raw",
   "metadata": {},
   "source": [
    "print_loopback()"
   ]
  },
  {
   "cell_type": "code",
   "execution_count": null,
   "metadata": {
    "collapsed": false
   },
   "outputs": [],
   "source": [
    "create_loopback(123)\n",
    "print_loopbacks()\n",
    "delete_loopback(123)\n",
    "print_loopbacks()"
   ]
  },
  {
   "cell_type": "code",
   "execution_count": null,
   "metadata": {
    "collapsed": false
   },
   "outputs": [],
   "source": [
    "create_loopback_list([5,6,7])\n",
    "print_loopbacks()"
   ]
  },
  {
   "cell_type": "code",
   "execution_count": null,
   "metadata": {
    "collapsed": false
   },
   "outputs": [],
   "source": [
    "delete_loopback(5)\n",
    "delete_loopback(6)\n",
    "delete_loopback(7)\n",
    "print_loopbacks()"
   ]
  },
  {
   "cell_type": "markdown",
   "metadata": {},
   "source": [
    "### Some helpers to print, create and delete Loopbacks"
   ]
  },
  {
   "cell_type": "code",
   "execution_count": null,
   "metadata": {
    "collapsed": true
   },
   "outputs": [],
   "source": [
    "import ydk.models.ned as ned\n",
    "\n",
    "def print_vrfs():\n",
    "    q_vrf = ned.Native.Vrf()\n",
    "    vrfs = c.read(session, q_vrf)\n",
    "    print(\"VRFs:\")\n",
    "    for v in vrfs.definition:\n",
    "        print(\"  {}\".format(v.name))\n",
    "\n",
    "# add a new VRF\n",
    "def add_vrf(name, rd):\n",
    "    vrfs = ned.Native.Vrf()\n",
    "    new_vrf = ned.Native.Vrf.Definition()\n",
    "    new_vrf.name = name\n",
    "    new_vrf.rd = rd\n",
    "    vrfs.definition.append(new_vrf)\n",
    "    c.create(session, vrfs)\n",
    "\n",
    "# delete a VRF\n",
    "def delete_vrf(name):\n",
    "    to_delete = ned.Native.Vrf.Definition()\n",
    "    to_delete.name = name\n",
    "    c.delete(session, to_delete)"
   ]
  },
  {
   "cell_type": "code",
   "execution_count": null,
   "metadata": {
    "collapsed": false
   },
   "outputs": [],
   "source": [
    "print_vrfs()"
   ]
  },
  {
   "cell_type": "code",
   "execution_count": null,
   "metadata": {
    "collapsed": false
   },
   "outputs": [],
   "source": [
    "add_vrf('foo', '1:1')\n",
    "add_vrf('bar', '1:1')\n",
    "\n",
    "print_vrfs()"
   ]
  },
  {
   "cell_type": "code",
   "execution_count": null,
   "metadata": {
    "collapsed": false
   },
   "outputs": [],
   "source": [
    "delete_vrf('foo')\n",
    "delete_vrf('bar')\n",
    "\n",
    "print_vrfs()"
   ]
  }
 ],
 "metadata": {
  "kernelspec": {
   "display_name": "Python 2",
   "language": "python",
   "name": "python2"
  },
  "language_info": {
   "codemirror_mode": {
    "name": "ipython",
    "version": 2
   },
   "file_extension": ".py",
   "mimetype": "text/x-python",
   "name": "python",
   "nbconvert_exporter": "python",
   "pygments_lexer": "ipython2",
   "version": "2.7.12"
  }
 },
 "nbformat": 4,
 "nbformat_minor": 0
}
