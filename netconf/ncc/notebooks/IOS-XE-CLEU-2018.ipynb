{
 "cells": [
  {
   "cell_type": "markdown",
   "metadata": {},
   "source": [
    "# IOS-XE CLEU 2018 Demo"
   ]
  },
  {
   "cell_type": "markdown",
   "metadata": {},
   "source": [
    "## Connecting to a Device"
   ]
  },
  {
   "cell_type": "markdown",
   "metadata": {},
   "source": [
    "Let's define some variables:"
   ]
  },
  {
   "cell_type": "code",
   "execution_count": null,
   "metadata": {
    "scrolled": true
   },
   "outputs": [],
   "source": [
    "# Local CSR 1000v (running under vagrant) -- rtr1\n",
    "HOST = '127.0.0.1'\n",
    "PORT = 2223\n",
    "USER = 'vagrant'\n",
    "PASS = 'vagrant'"
   ]
  },
  {
   "cell_type": "markdown",
   "metadata": {},
   "source": [
    "Now let's establish a NETCONF session to that box using ncclient:"
   ]
  },
  {
   "cell_type": "code",
   "execution_count": null,
   "metadata": {
    "scrolled": true
   },
   "outputs": [],
   "source": [
    "from ncclient import manager\n",
    "from lxml import etree\n",
    "\n",
    "def pretty_print(retval):\n",
    "        print(etree.tostring(retval.data, pretty_print=True))\n",
    "\n",
    "def my_unknown_host_cb(host, fingerprint):\n",
    "    return True\n",
    "    \n",
    "m = manager.connect(host=HOST, port=PORT, username=USER, password=PASS,\n",
    "                    allow_agent=False,\n",
    "                    look_for_keys=False,\n",
    "                    hostkey_verify=False,\n",
    "                    unknown_host_cb=my_unknown_host_cb)"
   ]
  },
  {
   "cell_type": "markdown",
   "metadata": {},
   "source": [
    "## Capabilities"
   ]
  },
  {
   "cell_type": "markdown",
   "metadata": {},
   "source": [
    "Let's look at the capabilities presented by the thing we've just connected to:"
   ]
  },
  {
   "cell_type": "code",
   "execution_count": null,
   "metadata": {
    "scrolled": true
   },
   "outputs": [],
   "source": [
    "for c in m.server_capabilities:\n",
    "    print(c)"
   ]
  },
  {
   "cell_type": "markdown",
   "metadata": {
    "collapsed": true
   },
   "source": [
    "Ok, that's a bit messy, so let's tidy it up a bit and look, initially, at all the base netconf capabilities:"
   ]
  },
  {
   "cell_type": "code",
   "execution_count": null,
   "metadata": {
    "scrolled": false
   },
   "outputs": [],
   "source": [
    "nc_caps = [c for c in m.server_capabilities if c.startswith('urn:ietf:params:netconf') and \"smiv2\" not in c]\n",
    "for c in nc_caps:\n",
    "    print(c)"
   ]
  },
  {
   "cell_type": "markdown",
   "metadata": {
    "collapsed": true
   },
   "source": [
    "And now let's look at the capabilities that are related to model support:"
   ]
  },
  {
   "cell_type": "code",
   "execution_count": null,
   "metadata": {
    "scrolled": true
   },
   "outputs": [],
   "source": [
    "import re\n",
    "\n",
    "for c in m.server_capabilities:\n",
    "    model = re.search('module=([^&]*)&', c)\n",
    "    if model is not None:\n",
    "        print(\"{}\".format(model.group(1)))\n",
    "\n",
    "        revision = re.search('revision=([0-9]{4}-[0-9]{2}-[0-9]{2})', c)\n",
    "        if revision is not None:\n",
    "            print(\"  revision = {}\".format(revision.group(1)))\n",
    "\n",
    "        deviations = re.search('deviations=([a-zA-Z0-9\\-,]+)($|&)',c)\n",
    "        if deviations is not None:\n",
    "            print(\"  deviations = {}\".format(deviations.group(1)))\n",
    "\n",
    "        features = re.search('features=([a-zA-Z0-9\\-,]+)($|&)',c)\n",
    "        if features is not None:\n",
    "            print(\"  features = {}\".format(features.group(1)))"
   ]
  },
  {
   "cell_type": "markdown",
   "metadata": {},
   "source": [
    "## Schema\n",
    "\n",
    "Let's take a look at playing with schema. First, we can try downloading them, picking one of the modules we got capabilities for."
   ]
  },
  {
   "cell_type": "code",
   "execution_count": null,
   "metadata": {
    "scrolled": true
   },
   "outputs": [],
   "source": [
    "# SCHEMA_TO_GET = 'Cisco-IOS-XE-native'\n",
    "# SCHEMA_TO_GET = 'Cisco-IOS-XE-features'\n",
    "SCHEMA_TO_GET = 'openconfig-interfaces'\n",
    "\n",
    "c = m.get_schema(SCHEMA_TO_GET)\n",
    "print(c.data)"
   ]
  },
  {
   "cell_type": "markdown",
   "metadata": {},
   "source": [
    "That's not so readable. Let's use a utility called ```pyang``` to get something a bit more readable."
   ]
  },
  {
   "cell_type": "code",
   "execution_count": null,
   "metadata": {
    "scrolled": false
   },
   "outputs": [],
   "source": [
    "from subprocess import Popen, PIPE, STDOUT\n",
    "\n",
    "SCHEMA_TO_GET = 'ietf-interfaces'\n",
    "\n",
    "c = m.get_schema(SCHEMA_TO_GET)\n",
    "\n",
    "# Simple pyang tree display\n",
    "# p = Popen(['pyang', '-f', 'tree'], stdout=PIPE, stdin=PIPE, stderr=PIPE)\n",
    "\n",
    "# Restrict display depth\n",
    "# p = Popen(['pyang', '-f', 'tree', '--tree-depth', '2'], stdout=PIPE, stdin=PIPE, stderr=PIPE)\n",
    "\n",
    "# Restrict display path\n",
    "p = Popen(['pyang', '-f', 'tree', '--tree-path', \n",
    "           'interfaces-state/interface/statistics'], stdout=PIPE, stdin=PIPE, stderr=PIPE)\n",
    "\n",
    "# Push the data from the get_schema through pyang\n",
    "stdout_data = p.communicate(input=c.data)[0]\n",
    "\n",
    "print(stdout_data)"
   ]
  },
  {
   "cell_type": "markdown",
   "metadata": {},
   "source": [
    "## What About Config?\n",
    "\n",
    "The ncclient library provides for some simple operations. Let's skip thinking about schemas and stuff like that. Instead let's focus on config and getting end setting it. For that, ncclient provides two methods:\n",
    "\n",
    "* get_config - takes a target data store and an optional filter\n",
    "* edit_config - takes a target data store and an XML document with the edit request"
   ]
  },
  {
   "cell_type": "markdown",
   "metadata": {},
   "source": [
    "### Getting Config\n",
    "\n",
    "Let's look at some simple requests..."
   ]
  },
  {
   "cell_type": "code",
   "execution_count": null,
   "metadata": {
    "scrolled": true
   },
   "outputs": [],
   "source": [
    "c = m.get_config(source='running')\n",
    "pretty_print(c)"
   ]
  },
  {
   "cell_type": "markdown",
   "metadata": {},
   "source": [
    "Now let's add in a simple filter:"
   ]
  },
  {
   "cell_type": "code",
   "execution_count": null,
   "metadata": {
    "scrolled": true
   },
   "outputs": [],
   "source": [
    "filter = '''\n",
    "<native>\n",
    " <username/>\n",
    "</native>\n",
    "'''\n",
    "c = m.get_config(source='running', filter=('subtree', filter))\n",
    "pretty_print(c)"
   ]
  },
  {
   "cell_type": "markdown",
   "metadata": {},
   "source": [
    "### Retrieve Interface Data (Native Model)"
   ]
  },
  {
   "cell_type": "code",
   "execution_count": null,
   "metadata": {
    "scrolled": false
   },
   "outputs": [],
   "source": [
    "filter = '''\n",
    "<native xmlns=\"http://cisco.com/ns/yang/Cisco-IOS-XE-native\">\n",
    "  <interface/>\n",
    "</native>\n",
    "'''\n",
    "c = m.get_config(source='running', filter=('subtree', filter))\n",
    "pretty_print(c)"
   ]
  },
  {
   "cell_type": "markdown",
   "metadata": {},
   "source": [
    "### Retrieve Interface Data (Native Model) With XPath Query\n",
    "\n",
    "As well as subtree filters, **IOS-XE** supports XPath-based filters."
   ]
  },
  {
   "cell_type": "code",
   "execution_count": null,
   "metadata": {
    "scrolled": false
   },
   "outputs": [],
   "source": [
    "filter = '/native/interface/GigabitEthernet/name'\n",
    "\n",
    "c = m.get_config(source='running', filter=('xpath', filter))\n",
    "pretty_print(c)"
   ]
  },
  {
   "cell_type": "markdown",
   "metadata": {},
   "source": [
    "### Retrieve All BGP Data\n",
    "\n",
    "Now let's look at the BGP native model:"
   ]
  },
  {
   "cell_type": "code",
   "execution_count": null,
   "metadata": {
    "scrolled": false
   },
   "outputs": [],
   "source": [
    "filter = '''\n",
    "<native xmlns=\"http://cisco.com/ns/yang/Cisco-IOS-XE-native\">\n",
    " <router>\n",
    "   <bgp xmlns=\"http://cisco.com/ns/yang/Cisco-IOS-XE-bgp\"/>\n",
    " </router>\n",
    "</native>\n",
    "'''\n",
    "c = m.get_config(source='running', filter=('subtree', filter))\n",
    "pretty_print(c)"
   ]
  },
  {
   "cell_type": "markdown",
   "metadata": {},
   "source": [
    "### Look At A Specific BGP Neighbor\n",
    "\n",
    "And can we look at a specific neighbor only? Say the one with id (address) ```192.168.0.1```?"
   ]
  },
  {
   "cell_type": "code",
   "execution_count": null,
   "metadata": {
    "scrolled": false
   },
   "outputs": [],
   "source": [
    "filter = '''\n",
    "<native xmlns=\"http://cisco.com/ns/yang/Cisco-IOS-XE-native\">\n",
    "  <router>\n",
    "    <bgp xmlns=\"http://cisco.com/ns/yang/Cisco-IOS-XE-bgp\">\n",
    "      <id>123</id>\n",
    "      <neighbor>\n",
    "        <id>192.168.0.1</id>\n",
    "      </neighbor>\n",
    "    </bgp>\n",
    "  </router>\n",
    "</native>\n",
    "'''\n",
    "c = m.get_config(source='running', filter=('subtree', filter))\n",
    "pretty_print(c)"
   ]
  },
  {
   "cell_type": "markdown",
   "metadata": {},
   "source": [
    "### Create New BGP Neighbor\n",
    "\n",
    "Ok, so, yes we can get a specific neighbor. Now, can we create a new neighbor? Let's create one with an id of '192.168.1.1', with a remote-as of 666."
   ]
  },
  {
   "cell_type": "code",
   "execution_count": null,
   "metadata": {
    "scrolled": true
   },
   "outputs": [],
   "source": [
    "from ncclient.operations import TimeoutExpiredError\n",
    "\n",
    "edit_data = '''\n",
    "<config>\n",
    "  <native xmlns=\"http://cisco.com/ns/yang/Cisco-IOS-XE-native\">\n",
    "    <router>\n",
    "      <bgp xmlns=\"http://cisco.com/ns/yang/Cisco-IOS-XE-bgp\">\n",
    "        <id>123</id>\n",
    "        <neighbor nc:operation=\"merge\">\n",
    "          <id>192.168.1.1</id>\n",
    "          <remote-as>666</remote-as>\n",
    "        </neighbor>\n",
    "      </bgp>\n",
    "    </router>\n",
    "  </native>\n",
    "</config>\n",
    "'''\n",
    "\n",
    "try:\n",
    "    edit_reply = m.edit_config(edit_data, target='running', format='xml')\n",
    "except TimeoutExpiredError as e:\n",
    "    print(\"Operation timeout!\")\n",
    "except Exception as e:\n",
    "    print(\"severity={}, tag={}\".format(e.severity, e.tag))\n",
    "    print(e)"
   ]
  },
  {
   "cell_type": "markdown",
   "metadata": {},
   "source": [
    "Now let's pull back that neighbor:"
   ]
  },
  {
   "cell_type": "code",
   "execution_count": null,
   "metadata": {
    "scrolled": true
   },
   "outputs": [],
   "source": [
    "filter = '''\n",
    "<native xmlns=\"http://cisco.com/ns/yang/Cisco-IOS-XE-native\">\n",
    "  <router>\n",
    "    <bgp xmlns=\"http://cisco.com/ns/yang/Cisco-IOS-XE-bgp\">\n",
    "      <id>123</id>\n",
    "      <neighbor>\n",
    "        <id>192.168.1.1</id>\n",
    "      </neighbor>\n",
    "    </bgp>\n",
    "  </router>\n",
    "</native>\n",
    "'''\n",
    "c = m.get_config(source='running', filter=('subtree', filter))\n",
    "pretty_print(c)"
   ]
  },
  {
   "cell_type": "markdown",
   "metadata": {},
   "source": [
    "### Modify The BGP Neighbor Description\n",
    "\n",
    "Can modify something in the neighbor we just created? Let's keep it simple and modify the description:"
   ]
  },
  {
   "cell_type": "code",
   "execution_count": null,
   "metadata": {
    "scrolled": true
   },
   "outputs": [],
   "source": [
    "from ncclient.operations import TimeoutExpiredError\n",
    "\n",
    "edit_data = '''\n",
    "<config>\n",
    "  <native xmlns=\"http://cisco.com/ns/yang/Cisco-IOS-XE-native\">\n",
    "    <router>\n",
    "      <bgp xmlns=\"http://cisco.com/ns/yang/Cisco-IOS-XE-bgp\">\n",
    "        <id>123</id>\n",
    "        <neighbor>\n",
    "          <id>192.168.1.1</id>\n",
    "          <description nc:operation=\"merge\">modified description</description>\n",
    "        </neighbor>\n",
    "      </bgp>\n",
    "    </router>\n",
    "  </native>\n",
    "</config>\n",
    "'''\n",
    "\n",
    "try:\n",
    "    edit_reply = m.edit_config(edit_data, target='running', format='xml')\n",
    "except TimeoutExpiredError as e:\n",
    "    print(\"Operation timeout!\")\n",
    "except Exception as e:\n",
    "    print(\"severity={}, tag={}\".format(e.severity, e.tag))\n",
    "    print(e)"
   ]
  },
  {
   "cell_type": "markdown",
   "metadata": {},
   "source": [
    "### Delete A BGP Neighbor\n",
    "\n",
    "Might need to do this before creating depending on the state of the router!"
   ]
  },
  {
   "cell_type": "code",
   "execution_count": null,
   "metadata": {
    "scrolled": true
   },
   "outputs": [],
   "source": [
    "from ncclient.operations import TimeoutExpiredError\n",
    "from lxml.etree import XMLSyntaxError\n",
    "\n",
    "edit_data = '''\n",
    "<config>\n",
    "  <native xmlns=\"http://cisco.com/ns/yang/Cisco-IOS-XE-native\">\n",
    "    <router>\n",
    "      <bgp xmlns=\"http://cisco.com/ns/yang/Cisco-IOS-XE-bgp\">\n",
    "        <id>123</id>\n",
    "        <neighbor nc:operation=\"delete\">\n",
    "          <id>192.168.1.1</id>\n",
    "        </neighbor>\n",
    "      </bgp>\n",
    "    </router>\n",
    "  </native>\n",
    "</config>\n",
    "'''\n",
    "\n",
    "try:\n",
    "    edit_reply = m.edit_config(edit_data, target='running', format='xml')\n",
    "except TimeoutExpiredError as e:\n",
    "    print(\"Operation timeout!\")\n",
    "except XMLSyntaxError as e:\n",
    "    print(e)\n",
    "    print(e.args)\n",
    "    print(dir(e))\n",
    "except Exception as e:\n",
    "    print(\"severity={}, tag={}\".format(e.severity, e.tag))\n",
    "    print(e)"
   ]
  },
  {
   "cell_type": "markdown",
   "metadata": {},
   "source": [
    "## Other Stuff"
   ]
  },
  {
   "cell_type": "markdown",
   "metadata": {},
   "source": [
    "Get interface data from native model:"
   ]
  },
  {
   "cell_type": "code",
   "execution_count": null,
   "metadata": {
    "scrolled": true
   },
   "outputs": [],
   "source": [
    "filter = '''\n",
    "<native xmlns=\"http://cisco.com/ns/yang/Cisco-IOS-XE-native\">\n",
    "  <interface/>\n",
    "</native>\n",
    "'''\n",
    "c = m.get_config(source='running', filter=('subtree', filter))\n",
    "pretty_print(c)"
   ]
  },
  {
   "cell_type": "code",
   "execution_count": null,
   "metadata": {
    "scrolled": true
   },
   "outputs": [],
   "source": [
    "filter = '''\n",
    "<native xmlns=\"http://cisco.com/ns/yang/Cisco-IOS-XE-native\">\n",
    "  <interface>\n",
    "    <GigabitEthernet>\n",
    "      <name/>\n",
    "      <ip/>\n",
    "    </GigabitEthernet>\n",
    "  </interface>\n",
    "</native>\n",
    "'''\n",
    "c = m.get_config(source='running', filter=('subtree', filter))\n",
    "pretty_print(c)"
   ]
  },
  {
   "cell_type": "code",
   "execution_count": null,
   "metadata": {
    "scrolled": true
   },
   "outputs": [],
   "source": [
    "filter = '''\n",
    "<native xmlns=\"http://cisco.com/ns/yang/Cisco-IOS-XE-native\">\n",
    "  <interface>\n",
    "    <GigabitEthernet>\n",
    "      <name>1</name>\n",
    "    </GigabitEthernet>\n",
    "  </interface>\n",
    "</native>\n",
    "'''\n",
    "c = m.get_config(source='running', filter=('subtree', filter))\n",
    "pretty_print(c)"
   ]
  },
  {
   "cell_type": "markdown",
   "metadata": {},
   "source": [
    "## OpenConfig Interface Oper Data Example"
   ]
  },
  {
   "cell_type": "markdown",
   "metadata": {},
   "source": [
    "Now let's take a look at what we can do when we support the same models on different platforms. In this case we'll take a look at the `openconfig-interfaces` model.\n",
    "\n",
    "First, let's connect to two different routers, but before running the code below, remember to set up the SSH tunnel...only works inside Cisco network!\n",
    "\n",
    "```\n",
    "ssh -N -vvv -L 8300:192.88.84.222:830 einarnn@fe-ucs34.cisco.com\n",
    "```\n",
    "\n",
    "You also need to ensure you are running at least IOX-XR 6.3.1 and IOS-XE 16.7.1."
   ]
  },
  {
   "cell_type": "code",
   "execution_count": 1,
   "metadata": {},
   "outputs": [],
   "source": [
    "from ncclient import manager\n",
    "from lxml import etree\n",
    "\n",
    "# Local CSR 1000v (running under vagrant) -- rtr1\n",
    "HOST = '127.0.0.1'\n",
    "PORT = 2223\n",
    "USER = 'vagrant'\n",
    "PASS = 'vagrant'\n",
    "\n",
    "# remote IOS-XR 9000v, accessed over an SSH tunnel\n",
    "HOST_XR = '127.0.0.1'\n",
    "PORT_XR = 8300\n",
    "USER_XR = 'cisco'\n",
    "PASS_XR = 'cisco'\n",
    "\n",
    "def pretty_print(retval):\n",
    "        print(etree.tostring(retval.data, pretty_print=True))\n",
    "\n",
    "def my_unknown_host_cb(host, fingerprint):\n",
    "    return True\n",
    "    \n",
    "m_xe = manager.connect(\n",
    "    host=HOST, port=PORT, username=USER, password=PASS,\n",
    "    allow_agent=False,\n",
    "    look_for_keys=False,\n",
    "    hostkey_verify=False,\n",
    "    unknown_host_cb=my_unknown_host_cb)\n",
    "\n",
    "m_xr = manager.connect(\n",
    "    host=HOST_XR, port=PORT_XR, username=USER_XR, password=PASS_XR,\n",
    "    allow_agent=False,\n",
    "    look_for_keys=False,\n",
    "    hostkey_verify=False,\n",
    "    unknown_host_cb=my_unknown_host_cb)"
   ]
  },
  {
   "cell_type": "markdown",
   "metadata": {},
   "source": [
    "Now let's get interface statistics from `openconfig-interfaces` model.\n",
    "\n",
    "First we define a common filter, with a substitution for the interface name that we can use later:"
   ]
  },
  {
   "cell_type": "code",
   "execution_count": 2,
   "metadata": {},
   "outputs": [],
   "source": [
    "common_filter = '''\n",
    "<interfaces xmlns=\"http://openconfig.net/yang/interfaces\">\n",
    "  <interface>\n",
    "    <name>%s</name>\n",
    "    <state>\n",
    "      <counters/>\n",
    "    </state>\n",
    "  </interface>\n",
    "</interfaces>\n",
    "'''"
   ]
  },
  {
   "cell_type": "code",
   "execution_count": 3,
   "metadata": {
    "scrolled": false
   },
   "outputs": [
    {
     "name": "stdout",
     "output_type": "stream",
     "text": [
      "<data xmlns=\"urn:ietf:params:xml:ns:netconf:base:1.0\" xmlns:nc=\"urn:ietf:params:xml:ns:netconf:base:1.0\">\n",
      "  <interfaces xmlns=\"http://openconfig.net/yang/interfaces\">\n",
      "   <interface>\n",
      "    <name>MgmtEth0/RP0/CPU0/0</name>\n",
      "    <state>\n",
      "     <counters>\n",
      "      <in-multicast-pkts>0</in-multicast-pkts>\n",
      "      <in-broadcast-pkts>1</in-broadcast-pkts>\n",
      "      <out-multicast-pkts>0</out-multicast-pkts>\n",
      "      <out-broadcast-pkts>0</out-broadcast-pkts>\n",
      "      <out-discards>0</out-discards>\n",
      "      <in-discards>0</in-discards>\n",
      "      <in-unknown-protos>0</in-unknown-protos>\n",
      "      <in-errors>0</in-errors>\n",
      "      <out-errors>0</out-errors>\n",
      "      <last-clear>2018-01-25 16:05:32.891 UTC</last-clear>\n",
      "      <in-octets>155408</in-octets>\n",
      "      <in-unicast-pkts>1658</in-unicast-pkts>\n",
      "      <out-octets>1412305</out-octets>\n",
      "      <out-unicast-pkts>1580</out-unicast-pkts>\n",
      "     </counters>\n",
      "    </state>\n",
      "   </interface>\n",
      "  </interfaces>\n",
      " </data>\n",
      "\n",
      "\n"
     ]
    }
   ],
   "source": [
    "#\n",
    "# IOS-XR Example, get data from the management ethernet\n",
    "#\n",
    "c = m_xr.get(filter=('subtree', common_filter % 'MgmtEth0/RP0/CPU0/0'))\n",
    "pretty_print(c)"
   ]
  },
  {
   "cell_type": "code",
   "execution_count": 4,
   "metadata": {
    "scrolled": false
   },
   "outputs": [
    {
     "name": "stdout",
     "output_type": "stream",
     "text": [
      "<data xmlns=\"urn:ietf:params:xml:ns:netconf:base:1.0\" xmlns:nc=\"urn:ietf:params:xml:ns:netconf:base:1.0\">\n",
      "  <interfaces xmlns=\"http://openconfig.net/yang/interfaces\">\n",
      "    <interface>\n",
      "      <name xmlns:nc=\"urn:ietf:params:xml:ns:netconf:base:1.0\">GigabitEthernet1</name>\n",
      "      <state>\n",
      "        <counters>\n",
      "          <in-octets>391593</in-octets>\n",
      "          <in-unicast-pkts>3840</in-unicast-pkts>\n",
      "          <in-broadcast-pkts>0</in-broadcast-pkts>\n",
      "          <in-multicast-pkts>0</in-multicast-pkts>\n",
      "          <in-discards>0</in-discards>\n",
      "          <in-errors>0</in-errors>\n",
      "          <in-unknown-protos>0</in-unknown-protos>\n",
      "          <out-octets>3392172</out-octets>\n",
      "          <out-unicast-pkts>3342</out-unicast-pkts>\n",
      "          <out-broadcast-pkts>0</out-broadcast-pkts>\n",
      "          <out-multicast-pkts>0</out-multicast-pkts>\n",
      "          <out-discards>0</out-discards>\n",
      "          <out-errors>0</out-errors>\n",
      "          <last-clear>2018-01-28T21:55:30.000909+00:00</last-clear>\n",
      "        </counters>\n",
      "      </state>\n",
      "    </interface>\n",
      "  </interfaces>\n",
      "</data>\n",
      "\n"
     ]
    }
   ],
   "source": [
    "#\n",
    "# IOS-XE Example, get data from Gi1, the commonly used interface for management on CSRs\n",
    "#\n",
    "c = m_xe.get(filter=('subtree', common_filter % 'GigabitEthernet1'))\n",
    "pretty_print(c)"
   ]
  },
  {
   "cell_type": "markdown",
   "metadata": {},
   "source": [
    "### Alternate XML Creation"
   ]
  },
  {
   "cell_type": "code",
   "execution_count": null,
   "metadata": {},
   "outputs": [],
   "source": [
    "from lxml import etree\n",
    "\n",
    "def create_interface_filter(intf_name):\n",
    "    interfaces = etree.Element(\n",
    "        \"interfaces\",\n",
    "        nsmap = {None: 'http://openconfig.net/yang/interfaces'})\n",
    "    interface = etree.SubElement(interfaces, \"interface\")\n",
    "    etree.SubElement(interface, 'name').text = intf_name\n",
    "    state = etree.SubElement(interface, 'state')\n",
    "    etree.SubElement(state, 'counters')\n",
    "    return interfaces\n",
    "\n",
    "print(etree.tostring(create_interface_filter('MgmtEth0/RP0/CPU0/0'), pretty_print=True))\n",
    "print(etree.tostring(create_interface_filter('GigabitEthernet1'), pretty_print=True))"
   ]
  },
  {
   "cell_type": "markdown",
   "metadata": {},
   "source": [
    "# Enable Debugging"
   ]
  },
  {
   "cell_type": "code",
   "execution_count": null,
   "metadata": {
    "scrolled": true
   },
   "outputs": [],
   "source": [
    "import logging\n",
    "\n",
    "handler = logging.StreamHandler()\n",
    "for l in ['ncclient.transport.ssh', 'ncclient.transport.session', 'ncclient.operations.rpc']:\n",
    "    logger = logging.getLogger(l)\n",
    "    logger.addHandler(handler)\n",
    "    logger.setLevel(logging.DEBUG)"
   ]
  }
 ],
 "metadata": {
  "kernelspec": {
   "display_name": "Python 2",
   "language": "python",
   "name": "python2"
  },
  "language_info": {
   "codemirror_mode": {
    "name": "ipython",
    "version": 2
   },
   "file_extension": ".py",
   "mimetype": "text/x-python",
   "name": "python",
   "nbconvert_exporter": "python",
   "pygments_lexer": "ipython2",
   "version": "2.7.14"
  }
 },
 "nbformat": 4,
 "nbformat_minor": 1
}
