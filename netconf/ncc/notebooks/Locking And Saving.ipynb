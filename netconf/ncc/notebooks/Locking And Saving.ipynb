{
 "cells": [
  {
   "cell_type": "markdown",
   "metadata": {},
   "source": [
    "# SAP Repro\n",
    "\n",
    "Trying to reproduce SAP issues."
   ]
  },
  {
   "cell_type": "markdown",
   "metadata": {},
   "source": [
    "## Constants & Functions"
   ]
  },
  {
   "cell_type": "code",
   "execution_count": 13,
   "metadata": {},
   "outputs": [],
   "source": [
    "HOST = '127.0.0.1'\n",
    "PORT = 2223\n",
    "USER = 'vagrant'\n",
    "PASS = 'vagrant'"
   ]
  },
  {
   "cell_type": "code",
   "execution_count": 14,
   "metadata": {},
   "outputs": [],
   "source": [
    "from ncclient import manager\n",
    "from lxml import etree\n",
    "\n",
    "def pretty_print(retval):\n",
    "        print(etree.tostring(retval.data, pretty_print=True))\n",
    "\n",
    "def my_unknown_host_cb(host, fingerprint):\n",
    "    return True\n",
    "    \n",
    "m = manager.connect(host=HOST, port=PORT, username=USER, password=PASS,\n",
    "                    device_params={'name':'iosxe'},\n",
    "                    allow_agent=False,\n",
    "                    look_for_keys=False,\n",
    "                    hostkey_verify=False,\n",
    "                    unknown_host_cb=my_unknown_host_cb)"
   ]
  },
  {
   "cell_type": "code",
   "execution_count": 15,
   "metadata": {},
   "outputs": [],
   "source": [
    "vrf = '''\n",
    "<nc:config xmlns:nc=\"urn:ietf:params:xml:ns:netconf:base:1.0\">\n",
    "  <native xmlns=\"http://cisco.com/ns/yang/Cisco-IOS-XE-native\">\n",
    "    <vrf>\n",
    "      <definition>\n",
    "        <name>TEST</name>\n",
    "        <rd>100:100</rd>\n",
    "        <address-family>\n",
    "          <ipv4/>\n",
    "        </address-family>\n",
    "      </definition>\n",
    "    </vrf>\n",
    "  </native>\n",
    "</nc:config>\n",
    "'''\n",
    "\n",
    "vrf_del = '''\n",
    "<nc:config xmlns:nc=\"urn:ietf:params:xml:ns:netconf:base:1.0\">\n",
    "  <native xmlns=\"http://cisco.com/ns/yang/Cisco-IOS-XE-native\">\n",
    "    <vrf>\n",
    "      <definition nc:operation=\"delete\">\n",
    "        <name>TEST</name>\n",
    "      </definition>\n",
    "    </vrf>\n",
    "  </native>\n",
    "</nc:config>\n",
    "'''\n",
    "\n",
    "def merge_vrf(conn):\n",
    "    return conn.edit_config(vrf, format='xml', target='candidate')\n",
    "\n",
    "def delete_vrf(conn):\n",
    "    return conn.edit_config(vrf_del, format='xml', target='candidate')"
   ]
  },
  {
   "cell_type": "code",
   "execution_count": 17,
   "metadata": {},
   "outputs": [
    {
     "name": "stdout",
     "output_type": "stream",
     "text": [
      "True\n"
     ]
    },
    {
     "data": {
      "text/plain": [
       "<?xml version=\"1.0\" encoding=\"UTF-8\"?>\n",
       "<rpc-reply xmlns=\"urn:ietf:params:xml:ns:netconf:base:1.0\" message-id=\"urn:uuid:b881b21c-ccab-4f64-8093-a3e3027e2353\" xmlns:nc=\"urn:ietf:params:xml:ns:netconf:base:1.0\"><ok/></rpc-reply>"
      ]
     },
     "execution_count": 17,
     "metadata": {},
     "output_type": "execute_result"
    }
   ],
   "source": [
    "#\n",
    "# loop creating & deleting the vrf TEST\n",
    "#\n",
    "m.lock(target='running')\n",
    "m.lock(target='candidate')\n",
    "for _ in range(0, 1):\n",
    "    print(merge_vrf(m).ok)\n",
    "    # print(delete_vrf(m).ok)\n",
    "m.commit()\n",
    "m.unlock(target='candidate')\n",
    "m.save_config()\n",
    "m.unlock(target='running')\n"
   ]
  },
  {
   "cell_type": "code",
   "execution_count": 32,
   "metadata": {},
   "outputs": [],
   "source": [
    "vrf_route = '''\n",
    "<nc:config xmlns:nc=\"urn:ietf:params:xml:ns:netconf:base:1.0\">\n",
    "  <native xmlns=\"http://cisco.com/ns/yang/Cisco-IOS-XE-native\">\n",
    "    <ip>\n",
    "      <route>\n",
    "        <vrf>\n",
    "          <name>TEST</name>\n",
    "          <ip-route-interface-forwarding-list>\n",
    "            <prefix>192.168.1.0</prefix>\n",
    "            <mask>255.255.255.0</mask>\n",
    "            <fwd-list>\n",
    "              <fwd>10.10.10.1</fwd>\n",
    "            </fwd-list>\n",
    "          </ip-route-interface-forwarding-list>\n",
    "        </vrf>\n",
    "      </route>\n",
    "    </ip>\n",
    "  </native>\n",
    "</nc:config>\n",
    "'''\n",
    "\n",
    "vrf_route_del = '''\n",
    "<nc:config xmlns:nc=\"urn:ietf:params:xml:ns:netconf:base:1.0\">\n",
    "  <native xmlns=\"http://cisco.com/ns/yang/Cisco-IOS-XE-native\">\n",
    "    <ip>\n",
    "      <route>\n",
    "        <vrf nc:operation=\"delete\">\n",
    "          <name>TEST</name>\n",
    "        </vrf>\n",
    "      </route>\n",
    "    </ip>\n",
    "  </native>\n",
    "</nc:config>\n",
    "'''\n",
    "\n",
    "def merge_vrf_route(conn):\n",
    "    return conn.edit_config(vrf_route, format='xml', target='running')\n",
    "\n",
    "def delete_vrf_route(conn):\n",
    "    return conn.edit_config(vrf_route_del, format='xml', target='running')"
   ]
  },
  {
   "cell_type": "code",
   "execution_count": 38,
   "metadata": {},
   "outputs": [
    {
     "data": {
      "text/plain": [
       "<?xml version=\"1.0\" encoding=\"UTF-8\"?>\n",
       "<rpc-reply xmlns=\"urn:ietf:params:xml:ns:netconf:base:1.0\" message-id=\"urn:uuid:9d0e4bf2-e72b-4ab4-891e-d826424d1a22\" xmlns:nc=\"urn:ietf:params:xml:ns:netconf:base:1.0\"><ok/></rpc-reply>"
      ]
     },
     "execution_count": 38,
     "metadata": {},
     "output_type": "execute_result"
    }
   ],
   "source": [
    "merge_vrf(m)"
   ]
  },
  {
   "cell_type": "code",
   "execution_count": 40,
   "metadata": {},
   "outputs": [
    {
     "data": {
      "text/plain": [
       "<?xml version=\"1.0\" encoding=\"UTF-8\"?>\n",
       "<rpc-reply xmlns=\"urn:ietf:params:xml:ns:netconf:base:1.0\" message-id=\"urn:uuid:f541dd2f-8ded-4e99-9a97-b7adedddb012\" xmlns:nc=\"urn:ietf:params:xml:ns:netconf:base:1.0\"><ok/></rpc-reply>"
      ]
     },
     "execution_count": 40,
     "metadata": {},
     "output_type": "execute_result"
    }
   ],
   "source": [
    "delete_vrf(m)"
   ]
  },
  {
   "cell_type": "code",
   "execution_count": 39,
   "metadata": {},
   "outputs": [
    {
     "data": {
      "text/plain": [
       "<?xml version=\"1.0\" encoding=\"UTF-8\"?>\n",
       "<rpc-reply xmlns=\"urn:ietf:params:xml:ns:netconf:base:1.0\" message-id=\"urn:uuid:ea5b3ec9-62db-4375-89eb-b1bcf61c8fb4\" xmlns:nc=\"urn:ietf:params:xml:ns:netconf:base:1.0\"><ok/></rpc-reply>"
      ]
     },
     "execution_count": 39,
     "metadata": {},
     "output_type": "execute_result"
    }
   ],
   "source": [
    "merge_vrf_route(m)"
   ]
  },
  {
   "cell_type": "code",
   "execution_count": 35,
   "metadata": {},
   "outputs": [
    {
     "data": {
      "text/plain": [
       "<?xml version=\"1.0\" encoding=\"UTF-8\"?>\n",
       "<rpc-reply xmlns=\"urn:ietf:params:xml:ns:netconf:base:1.0\" message-id=\"urn:uuid:df9c7888-6959-4edf-9e89-6d971233fa7e\" xmlns:nc=\"urn:ietf:params:xml:ns:netconf:base:1.0\"><ok/></rpc-reply>"
      ]
     },
     "execution_count": 35,
     "metadata": {},
     "output_type": "execute_result"
    }
   ],
   "source": [
    "delete_vrf_route(m)"
   ]
  },
  {
   "cell_type": "code",
   "execution_count": null,
   "metadata": {},
   "outputs": [],
   "source": []
  }
 ],
 "metadata": {
  "kernelspec": {
   "display_name": "Python 3",
   "language": "python",
   "name": "python3"
  },
  "language_info": {
   "codemirror_mode": {
    "name": "ipython",
    "version": 3
   },
   "file_extension": ".py",
   "mimetype": "text/x-python",
   "name": "python",
   "nbconvert_exporter": "python",
   "pygments_lexer": "ipython3",
   "version": "3.6.5"
  }
 },
 "nbformat": 4,
 "nbformat_minor": 2
}
